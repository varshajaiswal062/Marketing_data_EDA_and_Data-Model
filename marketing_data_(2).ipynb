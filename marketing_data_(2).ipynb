{
  "nbformat": 4,
  "nbformat_minor": 0,
  "metadata": {
    "colab": {
      "name": "marketing_data (2).ipynb",
      "provenance": [],
      "collapsed_sections": []
    },
    "kernelspec": {
      "name": "python3",
      "display_name": "Python 3"
    },
    "language_info": {
      "name": "python"
    }
  },
  "cells": [
    {
      "cell_type": "code",
      "execution_count": 38,
      "metadata": {
        "id": "gxazNg7UG6-u"
      },
      "outputs": [],
      "source": [
        "import pandas as pd\n",
        "import numpy as np\n",
        "import matplotlib.pyplot as plt\n",
        "%matplotlib inline\n",
        "import seaborn as sns\n",
        "from sklearn import linear_model\n",
        "from sklearn.model_selection import train_test_split\n",
        "from sklearn import preprocessing\n",
        "import matplotlib\n",
        "matplotlib.rcParams['font.size'] = 16\n",
        "#matplotlib.rcParams['figure.figsize'] = (10, 7)\n",
        "matplotlib.rcParams['figure.facecolor'] = '#000000'\n",
        "from sklearn.linear_model import LogisticRegression\n",
        "from sklearn.model_selection import train_test_split\n",
        "import seaborn as sns\n",
        "sns.set(style=\"ticks\", color_codes=True)\n",
        "# Display all the columns of the dataframe\n",
        "pd.pandas.set_option('display.max_columns',None)\n",
        "from sklearn.linear_model import LinearRegression\n",
        "import plotly.graph_objs as go\n",
        "\n",
        "import missingno"
      ]
    },
    {
      "cell_type": "code",
      "source": [
        "raw_dataset=pd.read_csv('/content/marketing_data.csv')"
      ],
      "metadata": {
        "id": "qiHjax4WHDLb"
      },
      "execution_count": 39,
      "outputs": []
    },
    {
      "cell_type": "code",
      "source": [
        "raw_dataset.shape"
      ],
      "metadata": {
        "colab": {
          "base_uri": "https://localhost:8080/"
        },
        "id": "GD_9aIneI85l",
        "outputId": "9d7bb0fb-5e10-4911-87b1-aaf663b6d7eb"
      },
      "execution_count": 40,
      "outputs": [
        {
          "output_type": "execute_result",
          "data": {
            "text/plain": [
              "(2240, 28)"
            ]
          },
          "metadata": {},
          "execution_count": 40
        }
      ]
    },
    {
      "cell_type": "code",
      "source": [
        "raw_dataset.columns"
      ],
      "metadata": {
        "colab": {
          "base_uri": "https://localhost:8080/"
        },
        "id": "-kYjUh5dJDHM",
        "outputId": "22dc7107-fb9f-4b7a-aa1e-f968c933372d"
      },
      "execution_count": 41,
      "outputs": [
        {
          "output_type": "execute_result",
          "data": {
            "text/plain": [
              "Index(['ID', 'Year_Birth', 'Education', 'Marital_Status', ' Income ',\n",
              "       'Kidhome', 'Teenhome', 'Dt_Customer', 'Recency', 'MntWines',\n",
              "       'MntFruits', 'MntMeatProducts', 'MntFishProducts', 'MntSweetProducts',\n",
              "       'MntGoldProds', 'NumDealsPurchases', 'NumWebPurchases',\n",
              "       'NumCatalogPurchases', 'NumStorePurchases', 'NumWebVisitsMonth',\n",
              "       'AcceptedCmp3', 'AcceptedCmp4', 'AcceptedCmp5', 'AcceptedCmp1',\n",
              "       'AcceptedCmp2', 'Response', 'Complain', 'Country'],\n",
              "      dtype='object')"
            ]
          },
          "metadata": {},
          "execution_count": 41
        }
      ]
    },
    {
      "cell_type": "code",
      "source": [
        "raw_dataset"
      ],
      "metadata": {
        "colab": {
          "base_uri": "https://localhost:8080/",
          "height": 488
        },
        "id": "M6psnMZEHMNu",
        "outputId": "7ea03e3e-6f6f-4846-c9cc-bb1143d320eb"
      },
      "execution_count": 42,
      "outputs": [
        {
          "output_type": "execute_result",
          "data": {
            "text/plain": [
              "         ID  Year_Birth   Education Marital_Status      Income   Kidhome  \\\n",
              "0      1826        1970  Graduation       Divorced  $84,835.00         0   \n",
              "1         1        1961  Graduation         Single  $57,091.00         0   \n",
              "2     10476        1958  Graduation        Married  $67,267.00         0   \n",
              "3      1386        1967  Graduation       Together  $32,474.00         1   \n",
              "4      5371        1989  Graduation         Single  $21,474.00         1   \n",
              "...     ...         ...         ...            ...          ...      ...   \n",
              "2235  10142        1976         PhD       Divorced  $66,476.00         0   \n",
              "2236   5263        1977    2n Cycle        Married  $31,056.00         1   \n",
              "2237     22        1976  Graduation       Divorced  $46,310.00         1   \n",
              "2238    528        1978  Graduation        Married  $65,819.00         0   \n",
              "2239   4070        1969         PhD        Married  $94,871.00         0   \n",
              "\n",
              "      Teenhome Dt_Customer  Recency  MntWines  MntFruits  MntMeatProducts  \\\n",
              "0            0     6/16/14        0       189        104              379   \n",
              "1            0     6/15/14        0       464          5               64   \n",
              "2            1     5/13/14        0       134         11               59   \n",
              "3            1     5/11/14        0        10          0                1   \n",
              "4            0      4/8/14        0         6         16               24   \n",
              "...        ...         ...      ...       ...        ...              ...   \n",
              "2235         1      3/7/13       99       372         18              126   \n",
              "2236         0     1/22/13       99         5         10               13   \n",
              "2237         0     12/3/12       99       185          2               88   \n",
              "2238         0    11/29/12       99       267         38              701   \n",
              "2239         2      9/1/12       99       169         24              553   \n",
              "\n",
              "      MntFishProducts  MntSweetProducts  MntGoldProds  NumDealsPurchases  \\\n",
              "0                 111               189           218                  1   \n",
              "1                   7                 0            37                  1   \n",
              "2                  15                 2            30                  1   \n",
              "3                   0                 0             0                  1   \n",
              "4                  11                 0            34                  2   \n",
              "...               ...               ...           ...                ...   \n",
              "2235               47                48            78                  2   \n",
              "2236                3                 8            16                  1   \n",
              "2237               15                 5            14                  2   \n",
              "2238              149               165            63                  1   \n",
              "2239              188                 0           144                  1   \n",
              "\n",
              "      NumWebPurchases  NumCatalogPurchases  NumStorePurchases  \\\n",
              "0                   4                    4                  6   \n",
              "1                   7                    3                  7   \n",
              "2                   3                    2                  5   \n",
              "3                   1                    0                  2   \n",
              "4                   3                    1                  2   \n",
              "...               ...                  ...                ...   \n",
              "2235                5                    2                 11   \n",
              "2236                1                    0                  3   \n",
              "2237                6                    1                  5   \n",
              "2238                5                    4                 10   \n",
              "2239                8                    5                  4   \n",
              "\n",
              "      NumWebVisitsMonth  AcceptedCmp3  AcceptedCmp4  AcceptedCmp5  \\\n",
              "0                     1             0             0             0   \n",
              "1                     5             0             0             0   \n",
              "2                     2             0             0             0   \n",
              "3                     7             0             0             0   \n",
              "4                     7             1             0             0   \n",
              "...                 ...           ...           ...           ...   \n",
              "2235                  4             0             0             0   \n",
              "2236                  8             0             0             0   \n",
              "2237                  8             0             0             0   \n",
              "2238                  3             0             0             0   \n",
              "2239                  7             0             1             1   \n",
              "\n",
              "      AcceptedCmp1  AcceptedCmp2  Response  Complain Country  \n",
              "0                0             0         1         0      SP  \n",
              "1                0             1         1         0      CA  \n",
              "2                0             0         0         0      US  \n",
              "3                0             0         0         0     AUS  \n",
              "4                0             0         1         0      SP  \n",
              "...            ...           ...       ...       ...     ...  \n",
              "2235             0             0         0         0      US  \n",
              "2236             0             0         0         0      SP  \n",
              "2237             0             0         0         0      SP  \n",
              "2238             0             0         0         0     IND  \n",
              "2239             0             0         1         0      CA  \n",
              "\n",
              "[2240 rows x 28 columns]"
            ],
            "text/html": [
              "\n",
              "  <div id=\"df-f186f52b-207c-4f15-9539-b2a771e7610d\">\n",
              "    <div class=\"colab-df-container\">\n",
              "      <div>\n",
              "<style scoped>\n",
              "    .dataframe tbody tr th:only-of-type {\n",
              "        vertical-align: middle;\n",
              "    }\n",
              "\n",
              "    .dataframe tbody tr th {\n",
              "        vertical-align: top;\n",
              "    }\n",
              "\n",
              "    .dataframe thead th {\n",
              "        text-align: right;\n",
              "    }\n",
              "</style>\n",
              "<table border=\"1\" class=\"dataframe\">\n",
              "  <thead>\n",
              "    <tr style=\"text-align: right;\">\n",
              "      <th></th>\n",
              "      <th>ID</th>\n",
              "      <th>Year_Birth</th>\n",
              "      <th>Education</th>\n",
              "      <th>Marital_Status</th>\n",
              "      <th>Income</th>\n",
              "      <th>Kidhome</th>\n",
              "      <th>Teenhome</th>\n",
              "      <th>Dt_Customer</th>\n",
              "      <th>Recency</th>\n",
              "      <th>MntWines</th>\n",
              "      <th>MntFruits</th>\n",
              "      <th>MntMeatProducts</th>\n",
              "      <th>MntFishProducts</th>\n",
              "      <th>MntSweetProducts</th>\n",
              "      <th>MntGoldProds</th>\n",
              "      <th>NumDealsPurchases</th>\n",
              "      <th>NumWebPurchases</th>\n",
              "      <th>NumCatalogPurchases</th>\n",
              "      <th>NumStorePurchases</th>\n",
              "      <th>NumWebVisitsMonth</th>\n",
              "      <th>AcceptedCmp3</th>\n",
              "      <th>AcceptedCmp4</th>\n",
              "      <th>AcceptedCmp5</th>\n",
              "      <th>AcceptedCmp1</th>\n",
              "      <th>AcceptedCmp2</th>\n",
              "      <th>Response</th>\n",
              "      <th>Complain</th>\n",
              "      <th>Country</th>\n",
              "    </tr>\n",
              "  </thead>\n",
              "  <tbody>\n",
              "    <tr>\n",
              "      <th>0</th>\n",
              "      <td>1826</td>\n",
              "      <td>1970</td>\n",
              "      <td>Graduation</td>\n",
              "      <td>Divorced</td>\n",
              "      <td>$84,835.00</td>\n",
              "      <td>0</td>\n",
              "      <td>0</td>\n",
              "      <td>6/16/14</td>\n",
              "      <td>0</td>\n",
              "      <td>189</td>\n",
              "      <td>104</td>\n",
              "      <td>379</td>\n",
              "      <td>111</td>\n",
              "      <td>189</td>\n",
              "      <td>218</td>\n",
              "      <td>1</td>\n",
              "      <td>4</td>\n",
              "      <td>4</td>\n",
              "      <td>6</td>\n",
              "      <td>1</td>\n",
              "      <td>0</td>\n",
              "      <td>0</td>\n",
              "      <td>0</td>\n",
              "      <td>0</td>\n",
              "      <td>0</td>\n",
              "      <td>1</td>\n",
              "      <td>0</td>\n",
              "      <td>SP</td>\n",
              "    </tr>\n",
              "    <tr>\n",
              "      <th>1</th>\n",
              "      <td>1</td>\n",
              "      <td>1961</td>\n",
              "      <td>Graduation</td>\n",
              "      <td>Single</td>\n",
              "      <td>$57,091.00</td>\n",
              "      <td>0</td>\n",
              "      <td>0</td>\n",
              "      <td>6/15/14</td>\n",
              "      <td>0</td>\n",
              "      <td>464</td>\n",
              "      <td>5</td>\n",
              "      <td>64</td>\n",
              "      <td>7</td>\n",
              "      <td>0</td>\n",
              "      <td>37</td>\n",
              "      <td>1</td>\n",
              "      <td>7</td>\n",
              "      <td>3</td>\n",
              "      <td>7</td>\n",
              "      <td>5</td>\n",
              "      <td>0</td>\n",
              "      <td>0</td>\n",
              "      <td>0</td>\n",
              "      <td>0</td>\n",
              "      <td>1</td>\n",
              "      <td>1</td>\n",
              "      <td>0</td>\n",
              "      <td>CA</td>\n",
              "    </tr>\n",
              "    <tr>\n",
              "      <th>2</th>\n",
              "      <td>10476</td>\n",
              "      <td>1958</td>\n",
              "      <td>Graduation</td>\n",
              "      <td>Married</td>\n",
              "      <td>$67,267.00</td>\n",
              "      <td>0</td>\n",
              "      <td>1</td>\n",
              "      <td>5/13/14</td>\n",
              "      <td>0</td>\n",
              "      <td>134</td>\n",
              "      <td>11</td>\n",
              "      <td>59</td>\n",
              "      <td>15</td>\n",
              "      <td>2</td>\n",
              "      <td>30</td>\n",
              "      <td>1</td>\n",
              "      <td>3</td>\n",
              "      <td>2</td>\n",
              "      <td>5</td>\n",
              "      <td>2</td>\n",
              "      <td>0</td>\n",
              "      <td>0</td>\n",
              "      <td>0</td>\n",
              "      <td>0</td>\n",
              "      <td>0</td>\n",
              "      <td>0</td>\n",
              "      <td>0</td>\n",
              "      <td>US</td>\n",
              "    </tr>\n",
              "    <tr>\n",
              "      <th>3</th>\n",
              "      <td>1386</td>\n",
              "      <td>1967</td>\n",
              "      <td>Graduation</td>\n",
              "      <td>Together</td>\n",
              "      <td>$32,474.00</td>\n",
              "      <td>1</td>\n",
              "      <td>1</td>\n",
              "      <td>5/11/14</td>\n",
              "      <td>0</td>\n",
              "      <td>10</td>\n",
              "      <td>0</td>\n",
              "      <td>1</td>\n",
              "      <td>0</td>\n",
              "      <td>0</td>\n",
              "      <td>0</td>\n",
              "      <td>1</td>\n",
              "      <td>1</td>\n",
              "      <td>0</td>\n",
              "      <td>2</td>\n",
              "      <td>7</td>\n",
              "      <td>0</td>\n",
              "      <td>0</td>\n",
              "      <td>0</td>\n",
              "      <td>0</td>\n",
              "      <td>0</td>\n",
              "      <td>0</td>\n",
              "      <td>0</td>\n",
              "      <td>AUS</td>\n",
              "    </tr>\n",
              "    <tr>\n",
              "      <th>4</th>\n",
              "      <td>5371</td>\n",
              "      <td>1989</td>\n",
              "      <td>Graduation</td>\n",
              "      <td>Single</td>\n",
              "      <td>$21,474.00</td>\n",
              "      <td>1</td>\n",
              "      <td>0</td>\n",
              "      <td>4/8/14</td>\n",
              "      <td>0</td>\n",
              "      <td>6</td>\n",
              "      <td>16</td>\n",
              "      <td>24</td>\n",
              "      <td>11</td>\n",
              "      <td>0</td>\n",
              "      <td>34</td>\n",
              "      <td>2</td>\n",
              "      <td>3</td>\n",
              "      <td>1</td>\n",
              "      <td>2</td>\n",
              "      <td>7</td>\n",
              "      <td>1</td>\n",
              "      <td>0</td>\n",
              "      <td>0</td>\n",
              "      <td>0</td>\n",
              "      <td>0</td>\n",
              "      <td>1</td>\n",
              "      <td>0</td>\n",
              "      <td>SP</td>\n",
              "    </tr>\n",
              "    <tr>\n",
              "      <th>...</th>\n",
              "      <td>...</td>\n",
              "      <td>...</td>\n",
              "      <td>...</td>\n",
              "      <td>...</td>\n",
              "      <td>...</td>\n",
              "      <td>...</td>\n",
              "      <td>...</td>\n",
              "      <td>...</td>\n",
              "      <td>...</td>\n",
              "      <td>...</td>\n",
              "      <td>...</td>\n",
              "      <td>...</td>\n",
              "      <td>...</td>\n",
              "      <td>...</td>\n",
              "      <td>...</td>\n",
              "      <td>...</td>\n",
              "      <td>...</td>\n",
              "      <td>...</td>\n",
              "      <td>...</td>\n",
              "      <td>...</td>\n",
              "      <td>...</td>\n",
              "      <td>...</td>\n",
              "      <td>...</td>\n",
              "      <td>...</td>\n",
              "      <td>...</td>\n",
              "      <td>...</td>\n",
              "      <td>...</td>\n",
              "      <td>...</td>\n",
              "    </tr>\n",
              "    <tr>\n",
              "      <th>2235</th>\n",
              "      <td>10142</td>\n",
              "      <td>1976</td>\n",
              "      <td>PhD</td>\n",
              "      <td>Divorced</td>\n",
              "      <td>$66,476.00</td>\n",
              "      <td>0</td>\n",
              "      <td>1</td>\n",
              "      <td>3/7/13</td>\n",
              "      <td>99</td>\n",
              "      <td>372</td>\n",
              "      <td>18</td>\n",
              "      <td>126</td>\n",
              "      <td>47</td>\n",
              "      <td>48</td>\n",
              "      <td>78</td>\n",
              "      <td>2</td>\n",
              "      <td>5</td>\n",
              "      <td>2</td>\n",
              "      <td>11</td>\n",
              "      <td>4</td>\n",
              "      <td>0</td>\n",
              "      <td>0</td>\n",
              "      <td>0</td>\n",
              "      <td>0</td>\n",
              "      <td>0</td>\n",
              "      <td>0</td>\n",
              "      <td>0</td>\n",
              "      <td>US</td>\n",
              "    </tr>\n",
              "    <tr>\n",
              "      <th>2236</th>\n",
              "      <td>5263</td>\n",
              "      <td>1977</td>\n",
              "      <td>2n Cycle</td>\n",
              "      <td>Married</td>\n",
              "      <td>$31,056.00</td>\n",
              "      <td>1</td>\n",
              "      <td>0</td>\n",
              "      <td>1/22/13</td>\n",
              "      <td>99</td>\n",
              "      <td>5</td>\n",
              "      <td>10</td>\n",
              "      <td>13</td>\n",
              "      <td>3</td>\n",
              "      <td>8</td>\n",
              "      <td>16</td>\n",
              "      <td>1</td>\n",
              "      <td>1</td>\n",
              "      <td>0</td>\n",
              "      <td>3</td>\n",
              "      <td>8</td>\n",
              "      <td>0</td>\n",
              "      <td>0</td>\n",
              "      <td>0</td>\n",
              "      <td>0</td>\n",
              "      <td>0</td>\n",
              "      <td>0</td>\n",
              "      <td>0</td>\n",
              "      <td>SP</td>\n",
              "    </tr>\n",
              "    <tr>\n",
              "      <th>2237</th>\n",
              "      <td>22</td>\n",
              "      <td>1976</td>\n",
              "      <td>Graduation</td>\n",
              "      <td>Divorced</td>\n",
              "      <td>$46,310.00</td>\n",
              "      <td>1</td>\n",
              "      <td>0</td>\n",
              "      <td>12/3/12</td>\n",
              "      <td>99</td>\n",
              "      <td>185</td>\n",
              "      <td>2</td>\n",
              "      <td>88</td>\n",
              "      <td>15</td>\n",
              "      <td>5</td>\n",
              "      <td>14</td>\n",
              "      <td>2</td>\n",
              "      <td>6</td>\n",
              "      <td>1</td>\n",
              "      <td>5</td>\n",
              "      <td>8</td>\n",
              "      <td>0</td>\n",
              "      <td>0</td>\n",
              "      <td>0</td>\n",
              "      <td>0</td>\n",
              "      <td>0</td>\n",
              "      <td>0</td>\n",
              "      <td>0</td>\n",
              "      <td>SP</td>\n",
              "    </tr>\n",
              "    <tr>\n",
              "      <th>2238</th>\n",
              "      <td>528</td>\n",
              "      <td>1978</td>\n",
              "      <td>Graduation</td>\n",
              "      <td>Married</td>\n",
              "      <td>$65,819.00</td>\n",
              "      <td>0</td>\n",
              "      <td>0</td>\n",
              "      <td>11/29/12</td>\n",
              "      <td>99</td>\n",
              "      <td>267</td>\n",
              "      <td>38</td>\n",
              "      <td>701</td>\n",
              "      <td>149</td>\n",
              "      <td>165</td>\n",
              "      <td>63</td>\n",
              "      <td>1</td>\n",
              "      <td>5</td>\n",
              "      <td>4</td>\n",
              "      <td>10</td>\n",
              "      <td>3</td>\n",
              "      <td>0</td>\n",
              "      <td>0</td>\n",
              "      <td>0</td>\n",
              "      <td>0</td>\n",
              "      <td>0</td>\n",
              "      <td>0</td>\n",
              "      <td>0</td>\n",
              "      <td>IND</td>\n",
              "    </tr>\n",
              "    <tr>\n",
              "      <th>2239</th>\n",
              "      <td>4070</td>\n",
              "      <td>1969</td>\n",
              "      <td>PhD</td>\n",
              "      <td>Married</td>\n",
              "      <td>$94,871.00</td>\n",
              "      <td>0</td>\n",
              "      <td>2</td>\n",
              "      <td>9/1/12</td>\n",
              "      <td>99</td>\n",
              "      <td>169</td>\n",
              "      <td>24</td>\n",
              "      <td>553</td>\n",
              "      <td>188</td>\n",
              "      <td>0</td>\n",
              "      <td>144</td>\n",
              "      <td>1</td>\n",
              "      <td>8</td>\n",
              "      <td>5</td>\n",
              "      <td>4</td>\n",
              "      <td>7</td>\n",
              "      <td>0</td>\n",
              "      <td>1</td>\n",
              "      <td>1</td>\n",
              "      <td>0</td>\n",
              "      <td>0</td>\n",
              "      <td>1</td>\n",
              "      <td>0</td>\n",
              "      <td>CA</td>\n",
              "    </tr>\n",
              "  </tbody>\n",
              "</table>\n",
              "<p>2240 rows × 28 columns</p>\n",
              "</div>\n",
              "      <button class=\"colab-df-convert\" onclick=\"convertToInteractive('df-f186f52b-207c-4f15-9539-b2a771e7610d')\"\n",
              "              title=\"Convert this dataframe to an interactive table.\"\n",
              "              style=\"display:none;\">\n",
              "        \n",
              "  <svg xmlns=\"http://www.w3.org/2000/svg\" height=\"24px\"viewBox=\"0 0 24 24\"\n",
              "       width=\"24px\">\n",
              "    <path d=\"M0 0h24v24H0V0z\" fill=\"none\"/>\n",
              "    <path d=\"M18.56 5.44l.94 2.06.94-2.06 2.06-.94-2.06-.94-.94-2.06-.94 2.06-2.06.94zm-11 1L8.5 8.5l.94-2.06 2.06-.94-2.06-.94L8.5 2.5l-.94 2.06-2.06.94zm10 10l.94 2.06.94-2.06 2.06-.94-2.06-.94-.94-2.06-.94 2.06-2.06.94z\"/><path d=\"M17.41 7.96l-1.37-1.37c-.4-.4-.92-.59-1.43-.59-.52 0-1.04.2-1.43.59L10.3 9.45l-7.72 7.72c-.78.78-.78 2.05 0 2.83L4 21.41c.39.39.9.59 1.41.59.51 0 1.02-.2 1.41-.59l7.78-7.78 2.81-2.81c.8-.78.8-2.07 0-2.86zM5.41 20L4 18.59l7.72-7.72 1.47 1.35L5.41 20z\"/>\n",
              "  </svg>\n",
              "      </button>\n",
              "      \n",
              "  <style>\n",
              "    .colab-df-container {\n",
              "      display:flex;\n",
              "      flex-wrap:wrap;\n",
              "      gap: 12px;\n",
              "    }\n",
              "\n",
              "    .colab-df-convert {\n",
              "      background-color: #E8F0FE;\n",
              "      border: none;\n",
              "      border-radius: 50%;\n",
              "      cursor: pointer;\n",
              "      display: none;\n",
              "      fill: #1967D2;\n",
              "      height: 32px;\n",
              "      padding: 0 0 0 0;\n",
              "      width: 32px;\n",
              "    }\n",
              "\n",
              "    .colab-df-convert:hover {\n",
              "      background-color: #E2EBFA;\n",
              "      box-shadow: 0px 1px 2px rgba(60, 64, 67, 0.3), 0px 1px 3px 1px rgba(60, 64, 67, 0.15);\n",
              "      fill: #174EA6;\n",
              "    }\n",
              "\n",
              "    [theme=dark] .colab-df-convert {\n",
              "      background-color: #3B4455;\n",
              "      fill: #D2E3FC;\n",
              "    }\n",
              "\n",
              "    [theme=dark] .colab-df-convert:hover {\n",
              "      background-color: #434B5C;\n",
              "      box-shadow: 0px 1px 3px 1px rgba(0, 0, 0, 0.15);\n",
              "      filter: drop-shadow(0px 1px 2px rgba(0, 0, 0, 0.3));\n",
              "      fill: #FFFFFF;\n",
              "    }\n",
              "  </style>\n",
              "\n",
              "      <script>\n",
              "        const buttonEl =\n",
              "          document.querySelector('#df-f186f52b-207c-4f15-9539-b2a771e7610d button.colab-df-convert');\n",
              "        buttonEl.style.display =\n",
              "          google.colab.kernel.accessAllowed ? 'block' : 'none';\n",
              "\n",
              "        async function convertToInteractive(key) {\n",
              "          const element = document.querySelector('#df-f186f52b-207c-4f15-9539-b2a771e7610d');\n",
              "          const dataTable =\n",
              "            await google.colab.kernel.invokeFunction('convertToInteractive',\n",
              "                                                     [key], {});\n",
              "          if (!dataTable) return;\n",
              "\n",
              "          const docLinkHtml = 'Like what you see? Visit the ' +\n",
              "            '<a target=\"_blank\" href=https://colab.research.google.com/notebooks/data_table.ipynb>data table notebook</a>'\n",
              "            + ' to learn more about interactive tables.';\n",
              "          element.innerHTML = '';\n",
              "          dataTable['output_type'] = 'display_data';\n",
              "          await google.colab.output.renderOutput(dataTable, element);\n",
              "          const docLink = document.createElement('div');\n",
              "          docLink.innerHTML = docLinkHtml;\n",
              "          element.appendChild(docLink);\n",
              "        }\n",
              "      </script>\n",
              "    </div>\n",
              "  </div>\n",
              "  "
            ]
          },
          "metadata": {},
          "execution_count": 42
        }
      ]
    },
    {
      "cell_type": "code",
      "source": [
        "raw_dataset.info()"
      ],
      "metadata": {
        "colab": {
          "base_uri": "https://localhost:8080/"
        },
        "id": "iAE4hwdVHPD-",
        "outputId": "72108708-c4f9-4d49-c574-eccf21b50f43"
      },
      "execution_count": 43,
      "outputs": [
        {
          "output_type": "stream",
          "name": "stdout",
          "text": [
            "<class 'pandas.core.frame.DataFrame'>\n",
            "RangeIndex: 2240 entries, 0 to 2239\n",
            "Data columns (total 28 columns):\n",
            " #   Column               Non-Null Count  Dtype \n",
            "---  ------               --------------  ----- \n",
            " 0   ID                   2240 non-null   int64 \n",
            " 1   Year_Birth           2240 non-null   int64 \n",
            " 2   Education            2240 non-null   object\n",
            " 3   Marital_Status       2240 non-null   object\n",
            " 4    Income              2216 non-null   object\n",
            " 5   Kidhome              2240 non-null   int64 \n",
            " 6   Teenhome             2240 non-null   int64 \n",
            " 7   Dt_Customer          2240 non-null   object\n",
            " 8   Recency              2240 non-null   int64 \n",
            " 9   MntWines             2240 non-null   int64 \n",
            " 10  MntFruits            2240 non-null   int64 \n",
            " 11  MntMeatProducts      2240 non-null   int64 \n",
            " 12  MntFishProducts      2240 non-null   int64 \n",
            " 13  MntSweetProducts     2240 non-null   int64 \n",
            " 14  MntGoldProds         2240 non-null   int64 \n",
            " 15  NumDealsPurchases    2240 non-null   int64 \n",
            " 16  NumWebPurchases      2240 non-null   int64 \n",
            " 17  NumCatalogPurchases  2240 non-null   int64 \n",
            " 18  NumStorePurchases    2240 non-null   int64 \n",
            " 19  NumWebVisitsMonth    2240 non-null   int64 \n",
            " 20  AcceptedCmp3         2240 non-null   int64 \n",
            " 21  AcceptedCmp4         2240 non-null   int64 \n",
            " 22  AcceptedCmp5         2240 non-null   int64 \n",
            " 23  AcceptedCmp1         2240 non-null   int64 \n",
            " 24  AcceptedCmp2         2240 non-null   int64 \n",
            " 25  Response             2240 non-null   int64 \n",
            " 26  Complain             2240 non-null   int64 \n",
            " 27  Country              2240 non-null   object\n",
            "dtypes: int64(23), object(5)\n",
            "memory usage: 490.1+ KB\n"
          ]
        }
      ]
    },
    {
      "cell_type": "markdown",
      "source": [
        "ID: Customer's unique identifier\n",
        "\n",
        "Year_Birth: Customer's birth year\n",
        "\n",
        "Education: Customer's education level\n",
        "\n",
        "Marital_Status:Customer's marital status\n",
        "\n",
        "Income: Customer's yearly household income\n",
        "\n",
        "Kidhome: Number of children in customer's household\n",
        "\n",
        "Tennhome: Number of teenagers in customer's household\n",
        "\n",
        "Dt_Customer: Date of customer's enrollment with the\n",
        "\n",
        "Recency: Number of days since customer's last purchase\n",
        "\n",
        "MntWines: Amount spent on wine in the last 2 years\n",
        "\n",
        "MntFruits: Amount spent on fruits in the last 2 years\n",
        "\n",
        "MntMeatProducts: Amount spent on meat in the last 2 years\n",
        "\n",
        "MntFishProducts: Amount spent on fish in the last 2 years\n",
        "\n",
        "MntSweetProducts: Amount spent on sweets in the last 2 years\n",
        "\n",
        "MntGoldProds: Amount spent on gold in the last 2 years\n",
        "\n",
        "NumDealsPurchase: Number of purchases made with a discount\n",
        "\n",
        "NumWebPurchase: Number of purchases made through the company's web site\n",
        "\n",
        "NumCatalogPurchase: Number of purchases made using a catalogue\n",
        "\n",
        "NumStorePurchase: Number of purchases made directly in stores\n",
        "\n",
        "NumWebVisitsMonth: Number of visits to company's web site in the last month\n",
        "\n",
        "AcceptedCmp3: 1 if customer accepted the offer in the 3rd campaign, 0 otherwise\n",
        "\n",
        "AcceptedCmp4: 1 if customer accepted the offer in the 4th campaign, 0 otherwise\n",
        "\n",
        "AcceptedCmp5: 1 if customer accepted the offer in the 5th campaign, 0 otherwise\n",
        "\n",
        "AcceptedCmp1: 1 if customer accepted the offer in the 1st campaign, 0 otherwise\n",
        "\n",
        "AcceptedCmp2: 2 if customer accepted the offer in the 1st campaign, 0 otherwise\n",
        "\n",
        "Respones: 1 if customer accepted the offer in the last campaign, 0 otherwise\n",
        "\n",
        "Complain: 1 if customer complained in the last 2 years, 0 otherwise\n",
        "\n",
        "Country: Customer's location"
      ],
      "metadata": {
        "id": "EmoXz7fYH83k"
      }
    },
    {
      "cell_type": "code",
      "source": [
        "raw_dataset.describe()"
      ],
      "metadata": {
        "colab": {
          "base_uri": "https://localhost:8080/",
          "height": 364
        },
        "id": "QnlXa28DIvrc",
        "outputId": "15730997-c02a-4c79-eed9-b08ccf98336e"
      },
      "execution_count": 44,
      "outputs": [
        {
          "output_type": "execute_result",
          "data": {
            "text/plain": [
              "                 ID   Year_Birth      Kidhome     Teenhome      Recency  \\\n",
              "count   2240.000000  2240.000000  2240.000000  2240.000000  2240.000000   \n",
              "mean    5592.159821  1968.805804     0.444196     0.506250    49.109375   \n",
              "std     3246.662198    11.984069     0.538398     0.544538    28.962453   \n",
              "min        0.000000  1893.000000     0.000000     0.000000     0.000000   \n",
              "25%     2828.250000  1959.000000     0.000000     0.000000    24.000000   \n",
              "50%     5458.500000  1970.000000     0.000000     0.000000    49.000000   \n",
              "75%     8427.750000  1977.000000     1.000000     1.000000    74.000000   \n",
              "max    11191.000000  1996.000000     2.000000     2.000000    99.000000   \n",
              "\n",
              "          MntWines    MntFruits  MntMeatProducts  MntFishProducts  \\\n",
              "count  2240.000000  2240.000000      2240.000000      2240.000000   \n",
              "mean    303.935714    26.302232       166.950000        37.525446   \n",
              "std     336.597393    39.773434       225.715373        54.628979   \n",
              "min       0.000000     0.000000         0.000000         0.000000   \n",
              "25%      23.750000     1.000000        16.000000         3.000000   \n",
              "50%     173.500000     8.000000        67.000000        12.000000   \n",
              "75%     504.250000    33.000000       232.000000        50.000000   \n",
              "max    1493.000000   199.000000      1725.000000       259.000000   \n",
              "\n",
              "       MntSweetProducts  MntGoldProds  NumDealsPurchases  NumWebPurchases  \\\n",
              "count       2240.000000   2240.000000        2240.000000      2240.000000   \n",
              "mean          27.062946     44.021875           2.325000         4.084821   \n",
              "std           41.280498     52.167439           1.932238         2.778714   \n",
              "min            0.000000      0.000000           0.000000         0.000000   \n",
              "25%            1.000000      9.000000           1.000000         2.000000   \n",
              "50%            8.000000     24.000000           2.000000         4.000000   \n",
              "75%           33.000000     56.000000           3.000000         6.000000   \n",
              "max          263.000000    362.000000          15.000000        27.000000   \n",
              "\n",
              "       NumCatalogPurchases  NumStorePurchases  NumWebVisitsMonth  \\\n",
              "count          2240.000000        2240.000000        2240.000000   \n",
              "mean              2.662054           5.790179           5.316518   \n",
              "std               2.923101           3.250958           2.426645   \n",
              "min               0.000000           0.000000           0.000000   \n",
              "25%               0.000000           3.000000           3.000000   \n",
              "50%               2.000000           5.000000           6.000000   \n",
              "75%               4.000000           8.000000           7.000000   \n",
              "max              28.000000          13.000000          20.000000   \n",
              "\n",
              "       AcceptedCmp3  AcceptedCmp4  AcceptedCmp5  AcceptedCmp1  AcceptedCmp2  \\\n",
              "count   2240.000000   2240.000000   2240.000000   2240.000000   2240.000000   \n",
              "mean       0.072768      0.074554      0.072768      0.064286      0.013393   \n",
              "std        0.259813      0.262728      0.259813      0.245316      0.114976   \n",
              "min        0.000000      0.000000      0.000000      0.000000      0.000000   \n",
              "25%        0.000000      0.000000      0.000000      0.000000      0.000000   \n",
              "50%        0.000000      0.000000      0.000000      0.000000      0.000000   \n",
              "75%        0.000000      0.000000      0.000000      0.000000      0.000000   \n",
              "max        1.000000      1.000000      1.000000      1.000000      1.000000   \n",
              "\n",
              "          Response     Complain  \n",
              "count  2240.000000  2240.000000  \n",
              "mean      0.149107     0.009375  \n",
              "std       0.356274     0.096391  \n",
              "min       0.000000     0.000000  \n",
              "25%       0.000000     0.000000  \n",
              "50%       0.000000     0.000000  \n",
              "75%       0.000000     0.000000  \n",
              "max       1.000000     1.000000  "
            ],
            "text/html": [
              "\n",
              "  <div id=\"df-c42aa8b5-eaee-4258-9752-43fc99884c6f\">\n",
              "    <div class=\"colab-df-container\">\n",
              "      <div>\n",
              "<style scoped>\n",
              "    .dataframe tbody tr th:only-of-type {\n",
              "        vertical-align: middle;\n",
              "    }\n",
              "\n",
              "    .dataframe tbody tr th {\n",
              "        vertical-align: top;\n",
              "    }\n",
              "\n",
              "    .dataframe thead th {\n",
              "        text-align: right;\n",
              "    }\n",
              "</style>\n",
              "<table border=\"1\" class=\"dataframe\">\n",
              "  <thead>\n",
              "    <tr style=\"text-align: right;\">\n",
              "      <th></th>\n",
              "      <th>ID</th>\n",
              "      <th>Year_Birth</th>\n",
              "      <th>Kidhome</th>\n",
              "      <th>Teenhome</th>\n",
              "      <th>Recency</th>\n",
              "      <th>MntWines</th>\n",
              "      <th>MntFruits</th>\n",
              "      <th>MntMeatProducts</th>\n",
              "      <th>MntFishProducts</th>\n",
              "      <th>MntSweetProducts</th>\n",
              "      <th>MntGoldProds</th>\n",
              "      <th>NumDealsPurchases</th>\n",
              "      <th>NumWebPurchases</th>\n",
              "      <th>NumCatalogPurchases</th>\n",
              "      <th>NumStorePurchases</th>\n",
              "      <th>NumWebVisitsMonth</th>\n",
              "      <th>AcceptedCmp3</th>\n",
              "      <th>AcceptedCmp4</th>\n",
              "      <th>AcceptedCmp5</th>\n",
              "      <th>AcceptedCmp1</th>\n",
              "      <th>AcceptedCmp2</th>\n",
              "      <th>Response</th>\n",
              "      <th>Complain</th>\n",
              "    </tr>\n",
              "  </thead>\n",
              "  <tbody>\n",
              "    <tr>\n",
              "      <th>count</th>\n",
              "      <td>2240.000000</td>\n",
              "      <td>2240.000000</td>\n",
              "      <td>2240.000000</td>\n",
              "      <td>2240.000000</td>\n",
              "      <td>2240.000000</td>\n",
              "      <td>2240.000000</td>\n",
              "      <td>2240.000000</td>\n",
              "      <td>2240.000000</td>\n",
              "      <td>2240.000000</td>\n",
              "      <td>2240.000000</td>\n",
              "      <td>2240.000000</td>\n",
              "      <td>2240.000000</td>\n",
              "      <td>2240.000000</td>\n",
              "      <td>2240.000000</td>\n",
              "      <td>2240.000000</td>\n",
              "      <td>2240.000000</td>\n",
              "      <td>2240.000000</td>\n",
              "      <td>2240.000000</td>\n",
              "      <td>2240.000000</td>\n",
              "      <td>2240.000000</td>\n",
              "      <td>2240.000000</td>\n",
              "      <td>2240.000000</td>\n",
              "      <td>2240.000000</td>\n",
              "    </tr>\n",
              "    <tr>\n",
              "      <th>mean</th>\n",
              "      <td>5592.159821</td>\n",
              "      <td>1968.805804</td>\n",
              "      <td>0.444196</td>\n",
              "      <td>0.506250</td>\n",
              "      <td>49.109375</td>\n",
              "      <td>303.935714</td>\n",
              "      <td>26.302232</td>\n",
              "      <td>166.950000</td>\n",
              "      <td>37.525446</td>\n",
              "      <td>27.062946</td>\n",
              "      <td>44.021875</td>\n",
              "      <td>2.325000</td>\n",
              "      <td>4.084821</td>\n",
              "      <td>2.662054</td>\n",
              "      <td>5.790179</td>\n",
              "      <td>5.316518</td>\n",
              "      <td>0.072768</td>\n",
              "      <td>0.074554</td>\n",
              "      <td>0.072768</td>\n",
              "      <td>0.064286</td>\n",
              "      <td>0.013393</td>\n",
              "      <td>0.149107</td>\n",
              "      <td>0.009375</td>\n",
              "    </tr>\n",
              "    <tr>\n",
              "      <th>std</th>\n",
              "      <td>3246.662198</td>\n",
              "      <td>11.984069</td>\n",
              "      <td>0.538398</td>\n",
              "      <td>0.544538</td>\n",
              "      <td>28.962453</td>\n",
              "      <td>336.597393</td>\n",
              "      <td>39.773434</td>\n",
              "      <td>225.715373</td>\n",
              "      <td>54.628979</td>\n",
              "      <td>41.280498</td>\n",
              "      <td>52.167439</td>\n",
              "      <td>1.932238</td>\n",
              "      <td>2.778714</td>\n",
              "      <td>2.923101</td>\n",
              "      <td>3.250958</td>\n",
              "      <td>2.426645</td>\n",
              "      <td>0.259813</td>\n",
              "      <td>0.262728</td>\n",
              "      <td>0.259813</td>\n",
              "      <td>0.245316</td>\n",
              "      <td>0.114976</td>\n",
              "      <td>0.356274</td>\n",
              "      <td>0.096391</td>\n",
              "    </tr>\n",
              "    <tr>\n",
              "      <th>min</th>\n",
              "      <td>0.000000</td>\n",
              "      <td>1893.000000</td>\n",
              "      <td>0.000000</td>\n",
              "      <td>0.000000</td>\n",
              "      <td>0.000000</td>\n",
              "      <td>0.000000</td>\n",
              "      <td>0.000000</td>\n",
              "      <td>0.000000</td>\n",
              "      <td>0.000000</td>\n",
              "      <td>0.000000</td>\n",
              "      <td>0.000000</td>\n",
              "      <td>0.000000</td>\n",
              "      <td>0.000000</td>\n",
              "      <td>0.000000</td>\n",
              "      <td>0.000000</td>\n",
              "      <td>0.000000</td>\n",
              "      <td>0.000000</td>\n",
              "      <td>0.000000</td>\n",
              "      <td>0.000000</td>\n",
              "      <td>0.000000</td>\n",
              "      <td>0.000000</td>\n",
              "      <td>0.000000</td>\n",
              "      <td>0.000000</td>\n",
              "    </tr>\n",
              "    <tr>\n",
              "      <th>25%</th>\n",
              "      <td>2828.250000</td>\n",
              "      <td>1959.000000</td>\n",
              "      <td>0.000000</td>\n",
              "      <td>0.000000</td>\n",
              "      <td>24.000000</td>\n",
              "      <td>23.750000</td>\n",
              "      <td>1.000000</td>\n",
              "      <td>16.000000</td>\n",
              "      <td>3.000000</td>\n",
              "      <td>1.000000</td>\n",
              "      <td>9.000000</td>\n",
              "      <td>1.000000</td>\n",
              "      <td>2.000000</td>\n",
              "      <td>0.000000</td>\n",
              "      <td>3.000000</td>\n",
              "      <td>3.000000</td>\n",
              "      <td>0.000000</td>\n",
              "      <td>0.000000</td>\n",
              "      <td>0.000000</td>\n",
              "      <td>0.000000</td>\n",
              "      <td>0.000000</td>\n",
              "      <td>0.000000</td>\n",
              "      <td>0.000000</td>\n",
              "    </tr>\n",
              "    <tr>\n",
              "      <th>50%</th>\n",
              "      <td>5458.500000</td>\n",
              "      <td>1970.000000</td>\n",
              "      <td>0.000000</td>\n",
              "      <td>0.000000</td>\n",
              "      <td>49.000000</td>\n",
              "      <td>173.500000</td>\n",
              "      <td>8.000000</td>\n",
              "      <td>67.000000</td>\n",
              "      <td>12.000000</td>\n",
              "      <td>8.000000</td>\n",
              "      <td>24.000000</td>\n",
              "      <td>2.000000</td>\n",
              "      <td>4.000000</td>\n",
              "      <td>2.000000</td>\n",
              "      <td>5.000000</td>\n",
              "      <td>6.000000</td>\n",
              "      <td>0.000000</td>\n",
              "      <td>0.000000</td>\n",
              "      <td>0.000000</td>\n",
              "      <td>0.000000</td>\n",
              "      <td>0.000000</td>\n",
              "      <td>0.000000</td>\n",
              "      <td>0.000000</td>\n",
              "    </tr>\n",
              "    <tr>\n",
              "      <th>75%</th>\n",
              "      <td>8427.750000</td>\n",
              "      <td>1977.000000</td>\n",
              "      <td>1.000000</td>\n",
              "      <td>1.000000</td>\n",
              "      <td>74.000000</td>\n",
              "      <td>504.250000</td>\n",
              "      <td>33.000000</td>\n",
              "      <td>232.000000</td>\n",
              "      <td>50.000000</td>\n",
              "      <td>33.000000</td>\n",
              "      <td>56.000000</td>\n",
              "      <td>3.000000</td>\n",
              "      <td>6.000000</td>\n",
              "      <td>4.000000</td>\n",
              "      <td>8.000000</td>\n",
              "      <td>7.000000</td>\n",
              "      <td>0.000000</td>\n",
              "      <td>0.000000</td>\n",
              "      <td>0.000000</td>\n",
              "      <td>0.000000</td>\n",
              "      <td>0.000000</td>\n",
              "      <td>0.000000</td>\n",
              "      <td>0.000000</td>\n",
              "    </tr>\n",
              "    <tr>\n",
              "      <th>max</th>\n",
              "      <td>11191.000000</td>\n",
              "      <td>1996.000000</td>\n",
              "      <td>2.000000</td>\n",
              "      <td>2.000000</td>\n",
              "      <td>99.000000</td>\n",
              "      <td>1493.000000</td>\n",
              "      <td>199.000000</td>\n",
              "      <td>1725.000000</td>\n",
              "      <td>259.000000</td>\n",
              "      <td>263.000000</td>\n",
              "      <td>362.000000</td>\n",
              "      <td>15.000000</td>\n",
              "      <td>27.000000</td>\n",
              "      <td>28.000000</td>\n",
              "      <td>13.000000</td>\n",
              "      <td>20.000000</td>\n",
              "      <td>1.000000</td>\n",
              "      <td>1.000000</td>\n",
              "      <td>1.000000</td>\n",
              "      <td>1.000000</td>\n",
              "      <td>1.000000</td>\n",
              "      <td>1.000000</td>\n",
              "      <td>1.000000</td>\n",
              "    </tr>\n",
              "  </tbody>\n",
              "</table>\n",
              "</div>\n",
              "      <button class=\"colab-df-convert\" onclick=\"convertToInteractive('df-c42aa8b5-eaee-4258-9752-43fc99884c6f')\"\n",
              "              title=\"Convert this dataframe to an interactive table.\"\n",
              "              style=\"display:none;\">\n",
              "        \n",
              "  <svg xmlns=\"http://www.w3.org/2000/svg\" height=\"24px\"viewBox=\"0 0 24 24\"\n",
              "       width=\"24px\">\n",
              "    <path d=\"M0 0h24v24H0V0z\" fill=\"none\"/>\n",
              "    <path d=\"M18.56 5.44l.94 2.06.94-2.06 2.06-.94-2.06-.94-.94-2.06-.94 2.06-2.06.94zm-11 1L8.5 8.5l.94-2.06 2.06-.94-2.06-.94L8.5 2.5l-.94 2.06-2.06.94zm10 10l.94 2.06.94-2.06 2.06-.94-2.06-.94-.94-2.06-.94 2.06-2.06.94z\"/><path d=\"M17.41 7.96l-1.37-1.37c-.4-.4-.92-.59-1.43-.59-.52 0-1.04.2-1.43.59L10.3 9.45l-7.72 7.72c-.78.78-.78 2.05 0 2.83L4 21.41c.39.39.9.59 1.41.59.51 0 1.02-.2 1.41-.59l7.78-7.78 2.81-2.81c.8-.78.8-2.07 0-2.86zM5.41 20L4 18.59l7.72-7.72 1.47 1.35L5.41 20z\"/>\n",
              "  </svg>\n",
              "      </button>\n",
              "      \n",
              "  <style>\n",
              "    .colab-df-container {\n",
              "      display:flex;\n",
              "      flex-wrap:wrap;\n",
              "      gap: 12px;\n",
              "    }\n",
              "\n",
              "    .colab-df-convert {\n",
              "      background-color: #E8F0FE;\n",
              "      border: none;\n",
              "      border-radius: 50%;\n",
              "      cursor: pointer;\n",
              "      display: none;\n",
              "      fill: #1967D2;\n",
              "      height: 32px;\n",
              "      padding: 0 0 0 0;\n",
              "      width: 32px;\n",
              "    }\n",
              "\n",
              "    .colab-df-convert:hover {\n",
              "      background-color: #E2EBFA;\n",
              "      box-shadow: 0px 1px 2px rgba(60, 64, 67, 0.3), 0px 1px 3px 1px rgba(60, 64, 67, 0.15);\n",
              "      fill: #174EA6;\n",
              "    }\n",
              "\n",
              "    [theme=dark] .colab-df-convert {\n",
              "      background-color: #3B4455;\n",
              "      fill: #D2E3FC;\n",
              "    }\n",
              "\n",
              "    [theme=dark] .colab-df-convert:hover {\n",
              "      background-color: #434B5C;\n",
              "      box-shadow: 0px 1px 3px 1px rgba(0, 0, 0, 0.15);\n",
              "      filter: drop-shadow(0px 1px 2px rgba(0, 0, 0, 0.3));\n",
              "      fill: #FFFFFF;\n",
              "    }\n",
              "  </style>\n",
              "\n",
              "      <script>\n",
              "        const buttonEl =\n",
              "          document.querySelector('#df-c42aa8b5-eaee-4258-9752-43fc99884c6f button.colab-df-convert');\n",
              "        buttonEl.style.display =\n",
              "          google.colab.kernel.accessAllowed ? 'block' : 'none';\n",
              "\n",
              "        async function convertToInteractive(key) {\n",
              "          const element = document.querySelector('#df-c42aa8b5-eaee-4258-9752-43fc99884c6f');\n",
              "          const dataTable =\n",
              "            await google.colab.kernel.invokeFunction('convertToInteractive',\n",
              "                                                     [key], {});\n",
              "          if (!dataTable) return;\n",
              "\n",
              "          const docLinkHtml = 'Like what you see? Visit the ' +\n",
              "            '<a target=\"_blank\" href=https://colab.research.google.com/notebooks/data_table.ipynb>data table notebook</a>'\n",
              "            + ' to learn more about interactive tables.';\n",
              "          element.innerHTML = '';\n",
              "          dataTable['output_type'] = 'display_data';\n",
              "          await google.colab.output.renderOutput(dataTable, element);\n",
              "          const docLink = document.createElement('div');\n",
              "          docLink.innerHTML = docLinkHtml;\n",
              "          element.appendChild(docLink);\n",
              "        }\n",
              "      </script>\n",
              "    </div>\n",
              "  </div>\n",
              "  "
            ]
          },
          "metadata": {},
          "execution_count": 44
        }
      ]
    },
    {
      "cell_type": "markdown",
      "source": [
        "50%-median if mean is greater than median then the dataset is skewed(+vely skewed) or right skewed . if there is a skewness in our dataset then this implies than our dataset has outliers\n",
        "\n",
        "if the difference between the min and the max value is more than it had large spread of skewness"
      ],
      "metadata": {
        "id": "0enntLPAIaF8"
      }
    },
    {
      "cell_type": "code",
      "source": [
        "dataset=raw_dataset.copy()"
      ],
      "metadata": {
        "id": "5_YIsRTBHtEx"
      },
      "execution_count": 45,
      "outputs": []
    },
    {
      "cell_type": "code",
      "source": [
        "dataset.head()"
      ],
      "metadata": {
        "colab": {
          "base_uri": "https://localhost:8080/",
          "height": 270
        },
        "id": "wl_YRca0PNW9",
        "outputId": "6d5d98ae-8442-4d1e-f686-1e417e2f2829"
      },
      "execution_count": 46,
      "outputs": [
        {
          "output_type": "execute_result",
          "data": {
            "text/plain": [
              "      ID  Year_Birth   Education Marital_Status      Income   Kidhome  \\\n",
              "0   1826        1970  Graduation       Divorced  $84,835.00         0   \n",
              "1      1        1961  Graduation         Single  $57,091.00         0   \n",
              "2  10476        1958  Graduation        Married  $67,267.00         0   \n",
              "3   1386        1967  Graduation       Together  $32,474.00         1   \n",
              "4   5371        1989  Graduation         Single  $21,474.00         1   \n",
              "\n",
              "   Teenhome Dt_Customer  Recency  MntWines  MntFruits  MntMeatProducts  \\\n",
              "0         0     6/16/14        0       189        104              379   \n",
              "1         0     6/15/14        0       464          5               64   \n",
              "2         1     5/13/14        0       134         11               59   \n",
              "3         1     5/11/14        0        10          0                1   \n",
              "4         0      4/8/14        0         6         16               24   \n",
              "\n",
              "   MntFishProducts  MntSweetProducts  MntGoldProds  NumDealsPurchases  \\\n",
              "0              111               189           218                  1   \n",
              "1                7                 0            37                  1   \n",
              "2               15                 2            30                  1   \n",
              "3                0                 0             0                  1   \n",
              "4               11                 0            34                  2   \n",
              "\n",
              "   NumWebPurchases  NumCatalogPurchases  NumStorePurchases  NumWebVisitsMonth  \\\n",
              "0                4                    4                  6                  1   \n",
              "1                7                    3                  7                  5   \n",
              "2                3                    2                  5                  2   \n",
              "3                1                    0                  2                  7   \n",
              "4                3                    1                  2                  7   \n",
              "\n",
              "   AcceptedCmp3  AcceptedCmp4  AcceptedCmp5  AcceptedCmp1  AcceptedCmp2  \\\n",
              "0             0             0             0             0             0   \n",
              "1             0             0             0             0             1   \n",
              "2             0             0             0             0             0   \n",
              "3             0             0             0             0             0   \n",
              "4             1             0             0             0             0   \n",
              "\n",
              "   Response  Complain Country  \n",
              "0         1         0      SP  \n",
              "1         1         0      CA  \n",
              "2         0         0      US  \n",
              "3         0         0     AUS  \n",
              "4         1         0      SP  "
            ],
            "text/html": [
              "\n",
              "  <div id=\"df-c8904743-9eba-48ca-8a07-75cd1c7a1f24\">\n",
              "    <div class=\"colab-df-container\">\n",
              "      <div>\n",
              "<style scoped>\n",
              "    .dataframe tbody tr th:only-of-type {\n",
              "        vertical-align: middle;\n",
              "    }\n",
              "\n",
              "    .dataframe tbody tr th {\n",
              "        vertical-align: top;\n",
              "    }\n",
              "\n",
              "    .dataframe thead th {\n",
              "        text-align: right;\n",
              "    }\n",
              "</style>\n",
              "<table border=\"1\" class=\"dataframe\">\n",
              "  <thead>\n",
              "    <tr style=\"text-align: right;\">\n",
              "      <th></th>\n",
              "      <th>ID</th>\n",
              "      <th>Year_Birth</th>\n",
              "      <th>Education</th>\n",
              "      <th>Marital_Status</th>\n",
              "      <th>Income</th>\n",
              "      <th>Kidhome</th>\n",
              "      <th>Teenhome</th>\n",
              "      <th>Dt_Customer</th>\n",
              "      <th>Recency</th>\n",
              "      <th>MntWines</th>\n",
              "      <th>MntFruits</th>\n",
              "      <th>MntMeatProducts</th>\n",
              "      <th>MntFishProducts</th>\n",
              "      <th>MntSweetProducts</th>\n",
              "      <th>MntGoldProds</th>\n",
              "      <th>NumDealsPurchases</th>\n",
              "      <th>NumWebPurchases</th>\n",
              "      <th>NumCatalogPurchases</th>\n",
              "      <th>NumStorePurchases</th>\n",
              "      <th>NumWebVisitsMonth</th>\n",
              "      <th>AcceptedCmp3</th>\n",
              "      <th>AcceptedCmp4</th>\n",
              "      <th>AcceptedCmp5</th>\n",
              "      <th>AcceptedCmp1</th>\n",
              "      <th>AcceptedCmp2</th>\n",
              "      <th>Response</th>\n",
              "      <th>Complain</th>\n",
              "      <th>Country</th>\n",
              "    </tr>\n",
              "  </thead>\n",
              "  <tbody>\n",
              "    <tr>\n",
              "      <th>0</th>\n",
              "      <td>1826</td>\n",
              "      <td>1970</td>\n",
              "      <td>Graduation</td>\n",
              "      <td>Divorced</td>\n",
              "      <td>$84,835.00</td>\n",
              "      <td>0</td>\n",
              "      <td>0</td>\n",
              "      <td>6/16/14</td>\n",
              "      <td>0</td>\n",
              "      <td>189</td>\n",
              "      <td>104</td>\n",
              "      <td>379</td>\n",
              "      <td>111</td>\n",
              "      <td>189</td>\n",
              "      <td>218</td>\n",
              "      <td>1</td>\n",
              "      <td>4</td>\n",
              "      <td>4</td>\n",
              "      <td>6</td>\n",
              "      <td>1</td>\n",
              "      <td>0</td>\n",
              "      <td>0</td>\n",
              "      <td>0</td>\n",
              "      <td>0</td>\n",
              "      <td>0</td>\n",
              "      <td>1</td>\n",
              "      <td>0</td>\n",
              "      <td>SP</td>\n",
              "    </tr>\n",
              "    <tr>\n",
              "      <th>1</th>\n",
              "      <td>1</td>\n",
              "      <td>1961</td>\n",
              "      <td>Graduation</td>\n",
              "      <td>Single</td>\n",
              "      <td>$57,091.00</td>\n",
              "      <td>0</td>\n",
              "      <td>0</td>\n",
              "      <td>6/15/14</td>\n",
              "      <td>0</td>\n",
              "      <td>464</td>\n",
              "      <td>5</td>\n",
              "      <td>64</td>\n",
              "      <td>7</td>\n",
              "      <td>0</td>\n",
              "      <td>37</td>\n",
              "      <td>1</td>\n",
              "      <td>7</td>\n",
              "      <td>3</td>\n",
              "      <td>7</td>\n",
              "      <td>5</td>\n",
              "      <td>0</td>\n",
              "      <td>0</td>\n",
              "      <td>0</td>\n",
              "      <td>0</td>\n",
              "      <td>1</td>\n",
              "      <td>1</td>\n",
              "      <td>0</td>\n",
              "      <td>CA</td>\n",
              "    </tr>\n",
              "    <tr>\n",
              "      <th>2</th>\n",
              "      <td>10476</td>\n",
              "      <td>1958</td>\n",
              "      <td>Graduation</td>\n",
              "      <td>Married</td>\n",
              "      <td>$67,267.00</td>\n",
              "      <td>0</td>\n",
              "      <td>1</td>\n",
              "      <td>5/13/14</td>\n",
              "      <td>0</td>\n",
              "      <td>134</td>\n",
              "      <td>11</td>\n",
              "      <td>59</td>\n",
              "      <td>15</td>\n",
              "      <td>2</td>\n",
              "      <td>30</td>\n",
              "      <td>1</td>\n",
              "      <td>3</td>\n",
              "      <td>2</td>\n",
              "      <td>5</td>\n",
              "      <td>2</td>\n",
              "      <td>0</td>\n",
              "      <td>0</td>\n",
              "      <td>0</td>\n",
              "      <td>0</td>\n",
              "      <td>0</td>\n",
              "      <td>0</td>\n",
              "      <td>0</td>\n",
              "      <td>US</td>\n",
              "    </tr>\n",
              "    <tr>\n",
              "      <th>3</th>\n",
              "      <td>1386</td>\n",
              "      <td>1967</td>\n",
              "      <td>Graduation</td>\n",
              "      <td>Together</td>\n",
              "      <td>$32,474.00</td>\n",
              "      <td>1</td>\n",
              "      <td>1</td>\n",
              "      <td>5/11/14</td>\n",
              "      <td>0</td>\n",
              "      <td>10</td>\n",
              "      <td>0</td>\n",
              "      <td>1</td>\n",
              "      <td>0</td>\n",
              "      <td>0</td>\n",
              "      <td>0</td>\n",
              "      <td>1</td>\n",
              "      <td>1</td>\n",
              "      <td>0</td>\n",
              "      <td>2</td>\n",
              "      <td>7</td>\n",
              "      <td>0</td>\n",
              "      <td>0</td>\n",
              "      <td>0</td>\n",
              "      <td>0</td>\n",
              "      <td>0</td>\n",
              "      <td>0</td>\n",
              "      <td>0</td>\n",
              "      <td>AUS</td>\n",
              "    </tr>\n",
              "    <tr>\n",
              "      <th>4</th>\n",
              "      <td>5371</td>\n",
              "      <td>1989</td>\n",
              "      <td>Graduation</td>\n",
              "      <td>Single</td>\n",
              "      <td>$21,474.00</td>\n",
              "      <td>1</td>\n",
              "      <td>0</td>\n",
              "      <td>4/8/14</td>\n",
              "      <td>0</td>\n",
              "      <td>6</td>\n",
              "      <td>16</td>\n",
              "      <td>24</td>\n",
              "      <td>11</td>\n",
              "      <td>0</td>\n",
              "      <td>34</td>\n",
              "      <td>2</td>\n",
              "      <td>3</td>\n",
              "      <td>1</td>\n",
              "      <td>2</td>\n",
              "      <td>7</td>\n",
              "      <td>1</td>\n",
              "      <td>0</td>\n",
              "      <td>0</td>\n",
              "      <td>0</td>\n",
              "      <td>0</td>\n",
              "      <td>1</td>\n",
              "      <td>0</td>\n",
              "      <td>SP</td>\n",
              "    </tr>\n",
              "  </tbody>\n",
              "</table>\n",
              "</div>\n",
              "      <button class=\"colab-df-convert\" onclick=\"convertToInteractive('df-c8904743-9eba-48ca-8a07-75cd1c7a1f24')\"\n",
              "              title=\"Convert this dataframe to an interactive table.\"\n",
              "              style=\"display:none;\">\n",
              "        \n",
              "  <svg xmlns=\"http://www.w3.org/2000/svg\" height=\"24px\"viewBox=\"0 0 24 24\"\n",
              "       width=\"24px\">\n",
              "    <path d=\"M0 0h24v24H0V0z\" fill=\"none\"/>\n",
              "    <path d=\"M18.56 5.44l.94 2.06.94-2.06 2.06-.94-2.06-.94-.94-2.06-.94 2.06-2.06.94zm-11 1L8.5 8.5l.94-2.06 2.06-.94-2.06-.94L8.5 2.5l-.94 2.06-2.06.94zm10 10l.94 2.06.94-2.06 2.06-.94-2.06-.94-.94-2.06-.94 2.06-2.06.94z\"/><path d=\"M17.41 7.96l-1.37-1.37c-.4-.4-.92-.59-1.43-.59-.52 0-1.04.2-1.43.59L10.3 9.45l-7.72 7.72c-.78.78-.78 2.05 0 2.83L4 21.41c.39.39.9.59 1.41.59.51 0 1.02-.2 1.41-.59l7.78-7.78 2.81-2.81c.8-.78.8-2.07 0-2.86zM5.41 20L4 18.59l7.72-7.72 1.47 1.35L5.41 20z\"/>\n",
              "  </svg>\n",
              "      </button>\n",
              "      \n",
              "  <style>\n",
              "    .colab-df-container {\n",
              "      display:flex;\n",
              "      flex-wrap:wrap;\n",
              "      gap: 12px;\n",
              "    }\n",
              "\n",
              "    .colab-df-convert {\n",
              "      background-color: #E8F0FE;\n",
              "      border: none;\n",
              "      border-radius: 50%;\n",
              "      cursor: pointer;\n",
              "      display: none;\n",
              "      fill: #1967D2;\n",
              "      height: 32px;\n",
              "      padding: 0 0 0 0;\n",
              "      width: 32px;\n",
              "    }\n",
              "\n",
              "    .colab-df-convert:hover {\n",
              "      background-color: #E2EBFA;\n",
              "      box-shadow: 0px 1px 2px rgba(60, 64, 67, 0.3), 0px 1px 3px 1px rgba(60, 64, 67, 0.15);\n",
              "      fill: #174EA6;\n",
              "    }\n",
              "\n",
              "    [theme=dark] .colab-df-convert {\n",
              "      background-color: #3B4455;\n",
              "      fill: #D2E3FC;\n",
              "    }\n",
              "\n",
              "    [theme=dark] .colab-df-convert:hover {\n",
              "      background-color: #434B5C;\n",
              "      box-shadow: 0px 1px 3px 1px rgba(0, 0, 0, 0.15);\n",
              "      filter: drop-shadow(0px 1px 2px rgba(0, 0, 0, 0.3));\n",
              "      fill: #FFFFFF;\n",
              "    }\n",
              "  </style>\n",
              "\n",
              "      <script>\n",
              "        const buttonEl =\n",
              "          document.querySelector('#df-c8904743-9eba-48ca-8a07-75cd1c7a1f24 button.colab-df-convert');\n",
              "        buttonEl.style.display =\n",
              "          google.colab.kernel.accessAllowed ? 'block' : 'none';\n",
              "\n",
              "        async function convertToInteractive(key) {\n",
              "          const element = document.querySelector('#df-c8904743-9eba-48ca-8a07-75cd1c7a1f24');\n",
              "          const dataTable =\n",
              "            await google.colab.kernel.invokeFunction('convertToInteractive',\n",
              "                                                     [key], {});\n",
              "          if (!dataTable) return;\n",
              "\n",
              "          const docLinkHtml = 'Like what you see? Visit the ' +\n",
              "            '<a target=\"_blank\" href=https://colab.research.google.com/notebooks/data_table.ipynb>data table notebook</a>'\n",
              "            + ' to learn more about interactive tables.';\n",
              "          element.innerHTML = '';\n",
              "          dataTable['output_type'] = 'display_data';\n",
              "          await google.colab.output.renderOutput(dataTable, element);\n",
              "          const docLink = document.createElement('div');\n",
              "          docLink.innerHTML = docLinkHtml;\n",
              "          element.appendChild(docLink);\n",
              "        }\n",
              "      </script>\n",
              "    </div>\n",
              "  </div>\n",
              "  "
            ]
          },
          "metadata": {},
          "execution_count": 46
        }
      ]
    },
    {
      "cell_type": "code",
      "source": [
        "dataset.tail()"
      ],
      "metadata": {
        "colab": {
          "base_uri": "https://localhost:8080/",
          "height": 270
        },
        "id": "pidyTDDfJ_-w",
        "outputId": "4b38ef88-a373-47de-93ab-1f323f6ffd5d"
      },
      "execution_count": 47,
      "outputs": [
        {
          "output_type": "execute_result",
          "data": {
            "text/plain": [
              "         ID  Year_Birth   Education Marital_Status      Income   Kidhome  \\\n",
              "2235  10142        1976         PhD       Divorced  $66,476.00         0   \n",
              "2236   5263        1977    2n Cycle        Married  $31,056.00         1   \n",
              "2237     22        1976  Graduation       Divorced  $46,310.00         1   \n",
              "2238    528        1978  Graduation        Married  $65,819.00         0   \n",
              "2239   4070        1969         PhD        Married  $94,871.00         0   \n",
              "\n",
              "      Teenhome Dt_Customer  Recency  MntWines  MntFruits  MntMeatProducts  \\\n",
              "2235         1      3/7/13       99       372         18              126   \n",
              "2236         0     1/22/13       99         5         10               13   \n",
              "2237         0     12/3/12       99       185          2               88   \n",
              "2238         0    11/29/12       99       267         38              701   \n",
              "2239         2      9/1/12       99       169         24              553   \n",
              "\n",
              "      MntFishProducts  MntSweetProducts  MntGoldProds  NumDealsPurchases  \\\n",
              "2235               47                48            78                  2   \n",
              "2236                3                 8            16                  1   \n",
              "2237               15                 5            14                  2   \n",
              "2238              149               165            63                  1   \n",
              "2239              188                 0           144                  1   \n",
              "\n",
              "      NumWebPurchases  NumCatalogPurchases  NumStorePurchases  \\\n",
              "2235                5                    2                 11   \n",
              "2236                1                    0                  3   \n",
              "2237                6                    1                  5   \n",
              "2238                5                    4                 10   \n",
              "2239                8                    5                  4   \n",
              "\n",
              "      NumWebVisitsMonth  AcceptedCmp3  AcceptedCmp4  AcceptedCmp5  \\\n",
              "2235                  4             0             0             0   \n",
              "2236                  8             0             0             0   \n",
              "2237                  8             0             0             0   \n",
              "2238                  3             0             0             0   \n",
              "2239                  7             0             1             1   \n",
              "\n",
              "      AcceptedCmp1  AcceptedCmp2  Response  Complain Country  \n",
              "2235             0             0         0         0      US  \n",
              "2236             0             0         0         0      SP  \n",
              "2237             0             0         0         0      SP  \n",
              "2238             0             0         0         0     IND  \n",
              "2239             0             0         1         0      CA  "
            ],
            "text/html": [
              "\n",
              "  <div id=\"df-9237c287-2c89-4fd0-94ca-57b491d14a2c\">\n",
              "    <div class=\"colab-df-container\">\n",
              "      <div>\n",
              "<style scoped>\n",
              "    .dataframe tbody tr th:only-of-type {\n",
              "        vertical-align: middle;\n",
              "    }\n",
              "\n",
              "    .dataframe tbody tr th {\n",
              "        vertical-align: top;\n",
              "    }\n",
              "\n",
              "    .dataframe thead th {\n",
              "        text-align: right;\n",
              "    }\n",
              "</style>\n",
              "<table border=\"1\" class=\"dataframe\">\n",
              "  <thead>\n",
              "    <tr style=\"text-align: right;\">\n",
              "      <th></th>\n",
              "      <th>ID</th>\n",
              "      <th>Year_Birth</th>\n",
              "      <th>Education</th>\n",
              "      <th>Marital_Status</th>\n",
              "      <th>Income</th>\n",
              "      <th>Kidhome</th>\n",
              "      <th>Teenhome</th>\n",
              "      <th>Dt_Customer</th>\n",
              "      <th>Recency</th>\n",
              "      <th>MntWines</th>\n",
              "      <th>MntFruits</th>\n",
              "      <th>MntMeatProducts</th>\n",
              "      <th>MntFishProducts</th>\n",
              "      <th>MntSweetProducts</th>\n",
              "      <th>MntGoldProds</th>\n",
              "      <th>NumDealsPurchases</th>\n",
              "      <th>NumWebPurchases</th>\n",
              "      <th>NumCatalogPurchases</th>\n",
              "      <th>NumStorePurchases</th>\n",
              "      <th>NumWebVisitsMonth</th>\n",
              "      <th>AcceptedCmp3</th>\n",
              "      <th>AcceptedCmp4</th>\n",
              "      <th>AcceptedCmp5</th>\n",
              "      <th>AcceptedCmp1</th>\n",
              "      <th>AcceptedCmp2</th>\n",
              "      <th>Response</th>\n",
              "      <th>Complain</th>\n",
              "      <th>Country</th>\n",
              "    </tr>\n",
              "  </thead>\n",
              "  <tbody>\n",
              "    <tr>\n",
              "      <th>2235</th>\n",
              "      <td>10142</td>\n",
              "      <td>1976</td>\n",
              "      <td>PhD</td>\n",
              "      <td>Divorced</td>\n",
              "      <td>$66,476.00</td>\n",
              "      <td>0</td>\n",
              "      <td>1</td>\n",
              "      <td>3/7/13</td>\n",
              "      <td>99</td>\n",
              "      <td>372</td>\n",
              "      <td>18</td>\n",
              "      <td>126</td>\n",
              "      <td>47</td>\n",
              "      <td>48</td>\n",
              "      <td>78</td>\n",
              "      <td>2</td>\n",
              "      <td>5</td>\n",
              "      <td>2</td>\n",
              "      <td>11</td>\n",
              "      <td>4</td>\n",
              "      <td>0</td>\n",
              "      <td>0</td>\n",
              "      <td>0</td>\n",
              "      <td>0</td>\n",
              "      <td>0</td>\n",
              "      <td>0</td>\n",
              "      <td>0</td>\n",
              "      <td>US</td>\n",
              "    </tr>\n",
              "    <tr>\n",
              "      <th>2236</th>\n",
              "      <td>5263</td>\n",
              "      <td>1977</td>\n",
              "      <td>2n Cycle</td>\n",
              "      <td>Married</td>\n",
              "      <td>$31,056.00</td>\n",
              "      <td>1</td>\n",
              "      <td>0</td>\n",
              "      <td>1/22/13</td>\n",
              "      <td>99</td>\n",
              "      <td>5</td>\n",
              "      <td>10</td>\n",
              "      <td>13</td>\n",
              "      <td>3</td>\n",
              "      <td>8</td>\n",
              "      <td>16</td>\n",
              "      <td>1</td>\n",
              "      <td>1</td>\n",
              "      <td>0</td>\n",
              "      <td>3</td>\n",
              "      <td>8</td>\n",
              "      <td>0</td>\n",
              "      <td>0</td>\n",
              "      <td>0</td>\n",
              "      <td>0</td>\n",
              "      <td>0</td>\n",
              "      <td>0</td>\n",
              "      <td>0</td>\n",
              "      <td>SP</td>\n",
              "    </tr>\n",
              "    <tr>\n",
              "      <th>2237</th>\n",
              "      <td>22</td>\n",
              "      <td>1976</td>\n",
              "      <td>Graduation</td>\n",
              "      <td>Divorced</td>\n",
              "      <td>$46,310.00</td>\n",
              "      <td>1</td>\n",
              "      <td>0</td>\n",
              "      <td>12/3/12</td>\n",
              "      <td>99</td>\n",
              "      <td>185</td>\n",
              "      <td>2</td>\n",
              "      <td>88</td>\n",
              "      <td>15</td>\n",
              "      <td>5</td>\n",
              "      <td>14</td>\n",
              "      <td>2</td>\n",
              "      <td>6</td>\n",
              "      <td>1</td>\n",
              "      <td>5</td>\n",
              "      <td>8</td>\n",
              "      <td>0</td>\n",
              "      <td>0</td>\n",
              "      <td>0</td>\n",
              "      <td>0</td>\n",
              "      <td>0</td>\n",
              "      <td>0</td>\n",
              "      <td>0</td>\n",
              "      <td>SP</td>\n",
              "    </tr>\n",
              "    <tr>\n",
              "      <th>2238</th>\n",
              "      <td>528</td>\n",
              "      <td>1978</td>\n",
              "      <td>Graduation</td>\n",
              "      <td>Married</td>\n",
              "      <td>$65,819.00</td>\n",
              "      <td>0</td>\n",
              "      <td>0</td>\n",
              "      <td>11/29/12</td>\n",
              "      <td>99</td>\n",
              "      <td>267</td>\n",
              "      <td>38</td>\n",
              "      <td>701</td>\n",
              "      <td>149</td>\n",
              "      <td>165</td>\n",
              "      <td>63</td>\n",
              "      <td>1</td>\n",
              "      <td>5</td>\n",
              "      <td>4</td>\n",
              "      <td>10</td>\n",
              "      <td>3</td>\n",
              "      <td>0</td>\n",
              "      <td>0</td>\n",
              "      <td>0</td>\n",
              "      <td>0</td>\n",
              "      <td>0</td>\n",
              "      <td>0</td>\n",
              "      <td>0</td>\n",
              "      <td>IND</td>\n",
              "    </tr>\n",
              "    <tr>\n",
              "      <th>2239</th>\n",
              "      <td>4070</td>\n",
              "      <td>1969</td>\n",
              "      <td>PhD</td>\n",
              "      <td>Married</td>\n",
              "      <td>$94,871.00</td>\n",
              "      <td>0</td>\n",
              "      <td>2</td>\n",
              "      <td>9/1/12</td>\n",
              "      <td>99</td>\n",
              "      <td>169</td>\n",
              "      <td>24</td>\n",
              "      <td>553</td>\n",
              "      <td>188</td>\n",
              "      <td>0</td>\n",
              "      <td>144</td>\n",
              "      <td>1</td>\n",
              "      <td>8</td>\n",
              "      <td>5</td>\n",
              "      <td>4</td>\n",
              "      <td>7</td>\n",
              "      <td>0</td>\n",
              "      <td>1</td>\n",
              "      <td>1</td>\n",
              "      <td>0</td>\n",
              "      <td>0</td>\n",
              "      <td>1</td>\n",
              "      <td>0</td>\n",
              "      <td>CA</td>\n",
              "    </tr>\n",
              "  </tbody>\n",
              "</table>\n",
              "</div>\n",
              "      <button class=\"colab-df-convert\" onclick=\"convertToInteractive('df-9237c287-2c89-4fd0-94ca-57b491d14a2c')\"\n",
              "              title=\"Convert this dataframe to an interactive table.\"\n",
              "              style=\"display:none;\">\n",
              "        \n",
              "  <svg xmlns=\"http://www.w3.org/2000/svg\" height=\"24px\"viewBox=\"0 0 24 24\"\n",
              "       width=\"24px\">\n",
              "    <path d=\"M0 0h24v24H0V0z\" fill=\"none\"/>\n",
              "    <path d=\"M18.56 5.44l.94 2.06.94-2.06 2.06-.94-2.06-.94-.94-2.06-.94 2.06-2.06.94zm-11 1L8.5 8.5l.94-2.06 2.06-.94-2.06-.94L8.5 2.5l-.94 2.06-2.06.94zm10 10l.94 2.06.94-2.06 2.06-.94-2.06-.94-.94-2.06-.94 2.06-2.06.94z\"/><path d=\"M17.41 7.96l-1.37-1.37c-.4-.4-.92-.59-1.43-.59-.52 0-1.04.2-1.43.59L10.3 9.45l-7.72 7.72c-.78.78-.78 2.05 0 2.83L4 21.41c.39.39.9.59 1.41.59.51 0 1.02-.2 1.41-.59l7.78-7.78 2.81-2.81c.8-.78.8-2.07 0-2.86zM5.41 20L4 18.59l7.72-7.72 1.47 1.35L5.41 20z\"/>\n",
              "  </svg>\n",
              "      </button>\n",
              "      \n",
              "  <style>\n",
              "    .colab-df-container {\n",
              "      display:flex;\n",
              "      flex-wrap:wrap;\n",
              "      gap: 12px;\n",
              "    }\n",
              "\n",
              "    .colab-df-convert {\n",
              "      background-color: #E8F0FE;\n",
              "      border: none;\n",
              "      border-radius: 50%;\n",
              "      cursor: pointer;\n",
              "      display: none;\n",
              "      fill: #1967D2;\n",
              "      height: 32px;\n",
              "      padding: 0 0 0 0;\n",
              "      width: 32px;\n",
              "    }\n",
              "\n",
              "    .colab-df-convert:hover {\n",
              "      background-color: #E2EBFA;\n",
              "      box-shadow: 0px 1px 2px rgba(60, 64, 67, 0.3), 0px 1px 3px 1px rgba(60, 64, 67, 0.15);\n",
              "      fill: #174EA6;\n",
              "    }\n",
              "\n",
              "    [theme=dark] .colab-df-convert {\n",
              "      background-color: #3B4455;\n",
              "      fill: #D2E3FC;\n",
              "    }\n",
              "\n",
              "    [theme=dark] .colab-df-convert:hover {\n",
              "      background-color: #434B5C;\n",
              "      box-shadow: 0px 1px 3px 1px rgba(0, 0, 0, 0.15);\n",
              "      filter: drop-shadow(0px 1px 2px rgba(0, 0, 0, 0.3));\n",
              "      fill: #FFFFFF;\n",
              "    }\n",
              "  </style>\n",
              "\n",
              "      <script>\n",
              "        const buttonEl =\n",
              "          document.querySelector('#df-9237c287-2c89-4fd0-94ca-57b491d14a2c button.colab-df-convert');\n",
              "        buttonEl.style.display =\n",
              "          google.colab.kernel.accessAllowed ? 'block' : 'none';\n",
              "\n",
              "        async function convertToInteractive(key) {\n",
              "          const element = document.querySelector('#df-9237c287-2c89-4fd0-94ca-57b491d14a2c');\n",
              "          const dataTable =\n",
              "            await google.colab.kernel.invokeFunction('convertToInteractive',\n",
              "                                                     [key], {});\n",
              "          if (!dataTable) return;\n",
              "\n",
              "          const docLinkHtml = 'Like what you see? Visit the ' +\n",
              "            '<a target=\"_blank\" href=https://colab.research.google.com/notebooks/data_table.ipynb>data table notebook</a>'\n",
              "            + ' to learn more about interactive tables.';\n",
              "          element.innerHTML = '';\n",
              "          dataTable['output_type'] = 'display_data';\n",
              "          await google.colab.output.renderOutput(dataTable, element);\n",
              "          const docLink = document.createElement('div');\n",
              "          docLink.innerHTML = docLinkHtml;\n",
              "          element.appendChild(docLink);\n",
              "        }\n",
              "      </script>\n",
              "    </div>\n",
              "  </div>\n",
              "  "
            ]
          },
          "metadata": {},
          "execution_count": 47
        }
      ]
    },
    {
      "cell_type": "code",
      "source": [
        "if len(dataset[dataset.duplicated()])> 0:\n",
        "  print (\"no. of duplicated entries:\", len(dataset[dataset.duplicated()]))\n",
        "  print (dataset[dataset.duplicated (keep=False)].sort_values(by=list(dataset.columns)).head())\n",
        "else:\n",
        "    print(\"no duplicate entries found\")"
      ],
      "metadata": {
        "colab": {
          "base_uri": "https://localhost:8080/"
        },
        "id": "LdnN7prcIT6L",
        "outputId": "b447560e-2130-4487-ec4b-ca3d8f3f0806"
      },
      "execution_count": 48,
      "outputs": [
        {
          "output_type": "stream",
          "name": "stdout",
          "text": [
            "no duplicate entries found\n"
          ]
        }
      ]
    },
    {
      "cell_type": "code",
      "source": [
        "dataset.isnull().sum().sort_values(ascending=False)"
      ],
      "metadata": {
        "colab": {
          "base_uri": "https://localhost:8080/"
        },
        "id": "5sqxyStqHxDP",
        "outputId": "ef2fc19a-426d-4288-f6fd-2f134a07300e"
      },
      "execution_count": 49,
      "outputs": [
        {
          "output_type": "execute_result",
          "data": {
            "text/plain": [
              " Income                24\n",
              "ID                      0\n",
              "NumDealsPurchases       0\n",
              "Complain                0\n",
              "Response                0\n",
              "AcceptedCmp2            0\n",
              "AcceptedCmp1            0\n",
              "AcceptedCmp5            0\n",
              "AcceptedCmp4            0\n",
              "AcceptedCmp3            0\n",
              "NumWebVisitsMonth       0\n",
              "NumStorePurchases       0\n",
              "NumCatalogPurchases     0\n",
              "NumWebPurchases         0\n",
              "MntGoldProds            0\n",
              "Year_Birth              0\n",
              "MntSweetProducts        0\n",
              "MntFishProducts         0\n",
              "MntMeatProducts         0\n",
              "MntFruits               0\n",
              "MntWines                0\n",
              "Recency                 0\n",
              "Dt_Customer             0\n",
              "Teenhome                0\n",
              "Kidhome                 0\n",
              "Marital_Status          0\n",
              "Education               0\n",
              "Country                 0\n",
              "dtype: int64"
            ]
          },
          "metadata": {},
          "execution_count": 49
        }
      ]
    },
    {
      "cell_type": "markdown",
      "source": [
        "This tells us two things:\n",
        "\n",
        "Income column is of string type\n",
        "Income column has some missing values"
      ],
      "metadata": {
        "id": "fg8OuZKEIPhk"
      }
    },
    {
      "cell_type": "code",
      "source": [
        "if dataset.isnull().any(axis=None):\n",
        "  print(\"\\n preview of data with null values:\\n\")\n",
        "  print(dataset[dataset.isnull().any(axis=1)].head(3))\n",
        "  missingno.matrix(dataset)\n",
        "  plt.show()"
      ],
      "metadata": {
        "colab": {
          "base_uri": "https://localhost:8080/",
          "height": 1000
        },
        "id": "6AwQjxqTII24",
        "outputId": "76f3b87c-81e2-40ce-f7aa-cd1c1eb49bfa"
      },
      "execution_count": 50,
      "outputs": [
        {
          "output_type": "stream",
          "name": "stdout",
          "text": [
            "\n",
            " preview of data with null values:\n",
            "\n",
            "       ID  Year_Birth   Education Marital_Status  Income   Kidhome  Teenhome  \\\n",
            "134  8996        1957         PhD        Married      NaN        2         1   \n",
            "262  1994        1983  Graduation        Married      NaN        1         0   \n",
            "394  3769        1972         PhD       Together      NaN        1         0   \n",
            "\n",
            "    Dt_Customer  Recency  MntWines  MntFruits  MntMeatProducts  \\\n",
            "134    11/19/12        4       230         42              192   \n",
            "262    11/15/13       11         5          5                6   \n",
            "394      3/2/14       17        25          1               13   \n",
            "\n",
            "     MntFishProducts  MntSweetProducts  MntGoldProds  NumDealsPurchases  \\\n",
            "134               49                37            53                 12   \n",
            "262                0                 2             1                  1   \n",
            "394                0                 0             3                  1   \n",
            "\n",
            "     NumWebPurchases  NumCatalogPurchases  NumStorePurchases  \\\n",
            "134                7                    2                  8   \n",
            "262                1                    0                  2   \n",
            "394                1                    0                  3   \n",
            "\n",
            "     NumWebVisitsMonth  AcceptedCmp3  AcceptedCmp4  AcceptedCmp5  \\\n",
            "134                  9             0             0             0   \n",
            "262                  7             0             0             0   \n",
            "394                  7             0             0             0   \n",
            "\n",
            "     AcceptedCmp1  AcceptedCmp2  Response  Complain Country  \n",
            "134             0             0         0         0     GER  \n",
            "262             0             0         0         0      US  \n",
            "394             0             0         0         0     AUS  \n"
          ]
        },
        {
          "output_type": "display_data",
          "data": {
            "text/plain": [
              "<Figure size 1800x720 with 2 Axes>"
            ],
            "image/png": "[encoded data removed]"
          },
          "metadata": {}
        }
      ]
    },
    {
      "cell_type": "code",
      "source": [
        "dataset.rename(columns={' Income ':'Income'}, inplace=True)\n"
      ],
      "metadata": {
        "id": "iHWEgPOQMjIl"
      },
      "execution_count": 51,
      "outputs": []
    },
    {
      "cell_type": "code",
      "source": [
        "dataset[\"Income\"] = dataset[\"Income\"].str.strip('$')\n",
        "dataset[\"Income\"] = dataset[\"Income\"].str.replace(\".\", \"\")\n",
        "dataset[\"Income\"] = dataset[\"Income\"].str.replace(\",\", \"\")\n",
        "dataset[\"Income\"]= dataset[\"Income\"].str.replace(\"00 \", \"\")"
      ],
      "metadata": {
        "colab": {
          "base_uri": "https://localhost:8080/"
        },
        "id": "2YEaC9xSPY8s",
        "outputId": "3dbc546d-1c8b-4b3c-c2e2-202099a8f0c5"
      },
      "execution_count": 52,
      "outputs": [
        {
          "output_type": "stream",
          "name": "stderr",
          "text": [
            "/usr/local/lib/python3.7/dist-packages/ipykernel_launcher.py:2: FutureWarning: The default value of regex will change from True to False in a future version. In addition, single character regular expressions will *not* be treated as literal strings when regex=True.\n",
            "  \n"
          ]
        }
      ]
    },
    {
      "cell_type": "code",
      "source": [
        "dataset['Income'] = dataset['Income'].astype('float')"
      ],
      "metadata": {
        "id": "wXu2pPbEJ21C"
      },
      "execution_count": 53,
      "outputs": []
    },
    {
      "cell_type": "markdown",
      "source": [
        "Handling the 24 missing values of the Income column\n",
        "\n",
        "Option 1- Discard the 24 comlumns\n",
        "\n",
        "Option 2- Insert the overall average value found in the Income column"
      ],
      "metadata": {
        "id": "CRYQbmuERG19"
      }
    },
    {
      "cell_type": "code",
      "source": [
        "dataset['Income'] = dataset['Income'].fillna(dataset['Income'].median())"
      ],
      "metadata": {
        "id": "c9ik8zwOQ_b4"
      },
      "execution_count": 54,
      "outputs": []
    },
    {
      "cell_type": "code",
      "source": [
        "dataset.isnull().sum().sort_values(ascending=False)"
      ],
      "metadata": {
        "colab": {
          "base_uri": "https://localhost:8080/"
        },
        "id": "Ms2GmiUhRMto",
        "outputId": "25b2ade0-f9f0-4590-ab7f-dcf5deda5f73"
      },
      "execution_count": 55,
      "outputs": [
        {
          "output_type": "execute_result",
          "data": {
            "text/plain": [
              "ID                     0\n",
              "Year_Birth             0\n",
              "Complain               0\n",
              "Response               0\n",
              "AcceptedCmp2           0\n",
              "AcceptedCmp1           0\n",
              "AcceptedCmp5           0\n",
              "AcceptedCmp4           0\n",
              "AcceptedCmp3           0\n",
              "NumWebVisitsMonth      0\n",
              "NumStorePurchases      0\n",
              "NumCatalogPurchases    0\n",
              "NumWebPurchases        0\n",
              "NumDealsPurchases      0\n",
              "MntGoldProds           0\n",
              "MntSweetProducts       0\n",
              "MntFishProducts        0\n",
              "MntMeatProducts        0\n",
              "MntFruits              0\n",
              "MntWines               0\n",
              "Recency                0\n",
              "Dt_Customer            0\n",
              "Teenhome               0\n",
              "Kidhome                0\n",
              "Income                 0\n",
              "Marital_Status         0\n",
              "Education              0\n",
              "Country                0\n",
              "dtype: int64"
            ]
          },
          "metadata": {},
          "execution_count": 55
        }
      ]
    },
    {
      "cell_type": "code",
      "source": [
        "# list of numerical variables\n",
        "numerical_features = [feature for feature in dataset.columns if dataset[feature].dtypes != 'O']\n",
        "\n",
        "print('Number of numerical variables: ', len(numerical_features))\n",
        "\n",
        "# visualise the numerical variables\n",
        "dataset[numerical_features].head()"
      ],
      "metadata": {
        "colab": {
          "base_uri": "https://localhost:8080/",
          "height": 288
        },
        "id": "L_ySPPwKRQR_",
        "outputId": "48248a5f-e59e-4ee4-f9be-f1f0b6f75edf"
      },
      "execution_count": 56,
      "outputs": [
        {
          "output_type": "stream",
          "name": "stdout",
          "text": [
            "Number of numerical variables:  24\n"
          ]
        },
        {
          "output_type": "execute_result",
          "data": {
            "text/plain": [
              "      ID  Year_Birth   Income  Kidhome  Teenhome  Recency  MntWines  \\\n",
              "0   1826        1970  84835.0        0         0        0       189   \n",
              "1      1        1961  57091.0        0         0        0       464   \n",
              "2  10476        1958  67267.0        0         1        0       134   \n",
              "3   1386        1967  32474.0        1         1        0        10   \n",
              "4   5371        1989  21474.0        1         0        0         6   \n",
              "\n",
              "   MntFruits  MntMeatProducts  MntFishProducts  MntSweetProducts  \\\n",
              "0        104              379              111               189   \n",
              "1          5               64                7                 0   \n",
              "2         11               59               15                 2   \n",
              "3          0                1                0                 0   \n",
              "4         16               24               11                 0   \n",
              "\n",
              "   MntGoldProds  NumDealsPurchases  NumWebPurchases  NumCatalogPurchases  \\\n",
              "0           218                  1                4                    4   \n",
              "1            37                  1                7                    3   \n",
              "2            30                  1                3                    2   \n",
              "3             0                  1                1                    0   \n",
              "4            34                  2                3                    1   \n",
              "\n",
              "   NumStorePurchases  NumWebVisitsMonth  AcceptedCmp3  AcceptedCmp4  \\\n",
              "0                  6                  1             0             0   \n",
              "1                  7                  5             0             0   \n",
              "2                  5                  2             0             0   \n",
              "3                  2                  7             0             0   \n",
              "4                  2                  7             1             0   \n",
              "\n",
              "   AcceptedCmp5  AcceptedCmp1  AcceptedCmp2  Response  Complain  \n",
              "0             0             0             0         1         0  \n",
              "1             0             0             1         1         0  \n",
              "2             0             0             0         0         0  \n",
              "3             0             0             0         0         0  \n",
              "4             0             0             0         1         0  "
            ],
            "text/html": [
              "\n",
              "  <div id=\"df-72ec8517-f5fb-43e1-b7d7-df58925efb25\">\n",
              "    <div class=\"colab-df-container\">\n",
              "      <div>\n",
              "<style scoped>\n",
              "    .dataframe tbody tr th:only-of-type {\n",
              "        vertical-align: middle;\n",
              "    }\n",
              "\n",
              "    .dataframe tbody tr th {\n",
              "        vertical-align: top;\n",
              "    }\n",
              "\n",
              "    .dataframe thead th {\n",
              "        text-align: right;\n",
              "    }\n",
              "</style>\n",
              "<table border=\"1\" class=\"dataframe\">\n",
              "  <thead>\n",
              "    <tr style=\"text-align: right;\">\n",
              "      <th></th>\n",
              "      <th>ID</th>\n",
              "      <th>Year_Birth</th>\n",
              "      <th>Income</th>\n",
              "      <th>Kidhome</th>\n",
              "      <th>Teenhome</th>\n",
              "      <th>Recency</th>\n",
              "      <th>MntWines</th>\n",
              "      <th>MntFruits</th>\n",
              "      <th>MntMeatProducts</th>\n",
              "      <th>MntFishProducts</th>\n",
              "      <th>MntSweetProducts</th>\n",
              "      <th>MntGoldProds</th>\n",
              "      <th>NumDealsPurchases</th>\n",
              "      <th>NumWebPurchases</th>\n",
              "      <th>NumCatalogPurchases</th>\n",
              "      <th>NumStorePurchases</th>\n",
              "      <th>NumWebVisitsMonth</th>\n",
              "      <th>AcceptedCmp3</th>\n",
              "      <th>AcceptedCmp4</th>\n",
              "      <th>AcceptedCmp5</th>\n",
              "      <th>AcceptedCmp1</th>\n",
              "      <th>AcceptedCmp2</th>\n",
              "      <th>Response</th>\n",
              "      <th>Complain</th>\n",
              "    </tr>\n",
              "  </thead>\n",
              "  <tbody>\n",
              "    <tr>\n",
              "      <th>0</th>\n",
              "      <td>1826</td>\n",
              "      <td>1970</td>\n",
              "      <td>84835.0</td>\n",
              "      <td>0</td>\n",
              "      <td>0</td>\n",
              "      <td>0</td>\n",
              "      <td>189</td>\n",
              "      <td>104</td>\n",
              "      <td>379</td>\n",
              "      <td>111</td>\n",
              "      <td>189</td>\n",
              "      <td>218</td>\n",
              "      <td>1</td>\n",
              "      <td>4</td>\n",
              "      <td>4</td>\n",
              "      <td>6</td>\n",
              "      <td>1</td>\n",
              "      <td>0</td>\n",
              "      <td>0</td>\n",
              "      <td>0</td>\n",
              "      <td>0</td>\n",
              "      <td>0</td>\n",
              "      <td>1</td>\n",
              "      <td>0</td>\n",
              "    </tr>\n",
              "    <tr>\n",
              "      <th>1</th>\n",
              "      <td>1</td>\n",
              "      <td>1961</td>\n",
              "      <td>57091.0</td>\n",
              "      <td>0</td>\n",
              "      <td>0</td>\n",
              "      <td>0</td>\n",
              "      <td>464</td>\n",
              "      <td>5</td>\n",
              "      <td>64</td>\n",
              "      <td>7</td>\n",
              "      <td>0</td>\n",
              "      <td>37</td>\n",
              "      <td>1</td>\n",
              "      <td>7</td>\n",
              "      <td>3</td>\n",
              "      <td>7</td>\n",
              "      <td>5</td>\n",
              "      <td>0</td>\n",
              "      <td>0</td>\n",
              "      <td>0</td>\n",
              "      <td>0</td>\n",
              "      <td>1</td>\n",
              "      <td>1</td>\n",
              "      <td>0</td>\n",
              "    </tr>\n",
              "    <tr>\n",
              "      <th>2</th>\n",
              "      <td>10476</td>\n",
              "      <td>1958</td>\n",
              "      <td>67267.0</td>\n",
              "      <td>0</td>\n",
              "      <td>1</td>\n",
              "      <td>0</td>\n",
              "      <td>134</td>\n",
              "      <td>11</td>\n",
              "      <td>59</td>\n",
              "      <td>15</td>\n",
              "      <td>2</td>\n",
              "      <td>30</td>\n",
              "      <td>1</td>\n",
              "      <td>3</td>\n",
              "      <td>2</td>\n",
              "      <td>5</td>\n",
              "      <td>2</td>\n",
              "      <td>0</td>\n",
              "      <td>0</td>\n",
              "      <td>0</td>\n",
              "      <td>0</td>\n",
              "      <td>0</td>\n",
              "      <td>0</td>\n",
              "      <td>0</td>\n",
              "    </tr>\n",
              "    <tr>\n",
              "      <th>3</th>\n",
              "      <td>1386</td>\n",
              "      <td>1967</td>\n",
              "      <td>32474.0</td>\n",
              "      <td>1</td>\n",
              "      <td>1</td>\n",
              "      <td>0</td>\n",
              "      <td>10</td>\n",
              "      <td>0</td>\n",
              "      <td>1</td>\n",
              "      <td>0</td>\n",
              "      <td>0</td>\n",
              "      <td>0</td>\n",
              "      <td>1</td>\n",
              "      <td>1</td>\n",
              "      <td>0</td>\n",
              "      <td>2</td>\n",
              "      <td>7</td>\n",
              "      <td>0</td>\n",
              "      <td>0</td>\n",
              "      <td>0</td>\n",
              "      <td>0</td>\n",
              "      <td>0</td>\n",
              "      <td>0</td>\n",
              "      <td>0</td>\n",
              "    </tr>\n",
              "    <tr>\n",
              "      <th>4</th>\n",
              "      <td>5371</td>\n",
              "      <td>1989</td>\n",
              "      <td>21474.0</td>\n",
              "      <td>1</td>\n",
              "      <td>0</td>\n",
              "      <td>0</td>\n",
              "      <td>6</td>\n",
              "      <td>16</td>\n",
              "      <td>24</td>\n",
              "      <td>11</td>\n",
              "      <td>0</td>\n",
              "      <td>34</td>\n",
              "      <td>2</td>\n",
              "      <td>3</td>\n",
              "      <td>1</td>\n",
              "      <td>2</td>\n",
              "      <td>7</td>\n",
              "      <td>1</td>\n",
              "      <td>0</td>\n",
              "      <td>0</td>\n",
              "      <td>0</td>\n",
              "      <td>0</td>\n",
              "      <td>1</td>\n",
              "      <td>0</td>\n",
              "    </tr>\n",
              "  </tbody>\n",
              "</table>\n",
              "</div>\n",
              "      <button class=\"colab-df-convert\" onclick=\"convertToInteractive('df-72ec8517-f5fb-43e1-b7d7-df58925efb25')\"\n",
              "              title=\"Convert this dataframe to an interactive table.\"\n",
              "              style=\"display:none;\">\n",
              "        \n",
              "  <svg xmlns=\"http://www.w3.org/2000/svg\" height=\"24px\"viewBox=\"0 0 24 24\"\n",
              "       width=\"24px\">\n",
              "    <path d=\"M0 0h24v24H0V0z\" fill=\"none\"/>\n",
              "    <path d=\"M18.56 5.44l.94 2.06.94-2.06 2.06-.94-2.06-.94-.94-2.06-.94 2.06-2.06.94zm-11 1L8.5 8.5l.94-2.06 2.06-.94-2.06-.94L8.5 2.5l-.94 2.06-2.06.94zm10 10l.94 2.06.94-2.06 2.06-.94-2.06-.94-.94-2.06-.94 2.06-2.06.94z\"/><path d=\"M17.41 7.96l-1.37-1.37c-.4-.4-.92-.59-1.43-.59-.52 0-1.04.2-1.43.59L10.3 9.45l-7.72 7.72c-.78.78-.78 2.05 0 2.83L4 21.41c.39.39.9.59 1.41.59.51 0 1.02-.2 1.41-.59l7.78-7.78 2.81-2.81c.8-.78.8-2.07 0-2.86zM5.41 20L4 18.59l7.72-7.72 1.47 1.35L5.41 20z\"/>\n",
              "  </svg>\n",
              "      </button>\n",
              "      \n",
              "  <style>\n",
              "    .colab-df-container {\n",
              "      display:flex;\n",
              "      flex-wrap:wrap;\n",
              "      gap: 12px;\n",
              "    }\n",
              "\n",
              "    .colab-df-convert {\n",
              "      background-color: #E8F0FE;\n",
              "      border: none;\n",
              "      border-radius: 50%;\n",
              "      cursor: pointer;\n",
              "      display: none;\n",
              "      fill: #1967D2;\n",
              "      height: 32px;\n",
              "      padding: 0 0 0 0;\n",
              "      width: 32px;\n",
              "    }\n",
              "\n",
              "    .colab-df-convert:hover {\n",
              "      background-color: #E2EBFA;\n",
              "      box-shadow: 0px 1px 2px rgba(60, 64, 67, 0.3), 0px 1px 3px 1px rgba(60, 64, 67, 0.15);\n",
              "      fill: #174EA6;\n",
              "    }\n",
              "\n",
              "    [theme=dark] .colab-df-convert {\n",
              "      background-color: #3B4455;\n",
              "      fill: #D2E3FC;\n",
              "    }\n",
              "\n",
              "    [theme=dark] .colab-df-convert:hover {\n",
              "      background-color: #434B5C;\n",
              "      box-shadow: 0px 1px 3px 1px rgba(0, 0, 0, 0.15);\n",
              "      filter: drop-shadow(0px 1px 2px rgba(0, 0, 0, 0.3));\n",
              "      fill: #FFFFFF;\n",
              "    }\n",
              "  </style>\n",
              "\n",
              "      <script>\n",
              "        const buttonEl =\n",
              "          document.querySelector('#df-72ec8517-f5fb-43e1-b7d7-df58925efb25 button.colab-df-convert');\n",
              "        buttonEl.style.display =\n",
              "          google.colab.kernel.accessAllowed ? 'block' : 'none';\n",
              "\n",
              "        async function convertToInteractive(key) {\n",
              "          const element = document.querySelector('#df-72ec8517-f5fb-43e1-b7d7-df58925efb25');\n",
              "          const dataTable =\n",
              "            await google.colab.kernel.invokeFunction('convertToInteractive',\n",
              "                                                     [key], {});\n",
              "          if (!dataTable) return;\n",
              "\n",
              "          const docLinkHtml = 'Like what you see? Visit the ' +\n",
              "            '<a target=\"_blank\" href=https://colab.research.google.com/notebooks/data_table.ipynb>data table notebook</a>'\n",
              "            + ' to learn more about interactive tables.';\n",
              "          element.innerHTML = '';\n",
              "          dataTable['output_type'] = 'display_data';\n",
              "          await google.colab.output.renderOutput(dataTable, element);\n",
              "          const docLink = document.createElement('div');\n",
              "          docLink.innerHTML = docLinkHtml;\n",
              "          element.appendChild(docLink);\n",
              "        }\n",
              "      </script>\n",
              "    </div>\n",
              "  </div>\n",
              "  "
            ]
          },
          "metadata": {},
          "execution_count": 56
        }
      ]
    },
    {
      "cell_type": "markdown",
      "source": [
        "for discrete and categorical data"
      ],
      "metadata": {
        "id": "5llsFnVYRzhL"
      }
    },
    {
      "cell_type": "code",
      "source": [
        "## Numerical variables are usually of 2 type\n",
        "## 1. Continous variable and Discrete Variables\n",
        "\n",
        "discrete_feature=[feature for feature in numerical_features if len(dataset[feature].unique())<25 and feature not in year_feature+['Id']]\n",
        "print(\"Discrete Variables Count: {}\".format(len(discrete_feature)))"
      ],
      "metadata": {
        "colab": {
          "base_uri": "https://localhost:8080/"
        },
        "id": "3i-pCO7eRwvl",
        "outputId": "6aaa2036-d311-410e-c5bf-8467a2a6a9fb"
      },
      "execution_count": 57,
      "outputs": [
        {
          "output_type": "stream",
          "name": "stdout",
          "text": [
            "Discrete Variables Count: 14\n"
          ]
        }
      ]
    },
    {
      "cell_type": "code",
      "source": [
        "discrete_feature"
      ],
      "metadata": {
        "colab": {
          "base_uri": "https://localhost:8080/"
        },
        "id": "7bcMZeqpR6yC",
        "outputId": "fd12c95e-b27d-45ba-9818-a832ea113273"
      },
      "execution_count": 58,
      "outputs": [
        {
          "output_type": "execute_result",
          "data": {
            "text/plain": [
              "['Kidhome',\n",
              " 'Teenhome',\n",
              " 'NumDealsPurchases',\n",
              " 'NumWebPurchases',\n",
              " 'NumCatalogPurchases',\n",
              " 'NumStorePurchases',\n",
              " 'NumWebVisitsMonth',\n",
              " 'AcceptedCmp3',\n",
              " 'AcceptedCmp4',\n",
              " 'AcceptedCmp5',\n",
              " 'AcceptedCmp1',\n",
              " 'AcceptedCmp2',\n",
              " 'Response',\n",
              " 'Complain']"
            ]
          },
          "metadata": {},
          "execution_count": 58
        }
      ]
    },
    {
      "cell_type": "code",
      "source": [
        "continuous_feature=[feature for feature in numerical_features if feature not in discrete_feature+year_feature+['Id']]\n",
        "print(\"Continuous feature Count {}\".format(len(continuous_feature)))"
      ],
      "metadata": {
        "colab": {
          "base_uri": "https://localhost:8080/"
        },
        "id": "4xWsyxNCR9Kz",
        "outputId": "923ec81e-91c0-46e6-cedc-c4f037043be6"
      },
      "execution_count": 59,
      "outputs": [
        {
          "output_type": "stream",
          "name": "stdout",
          "text": [
            "Continuous feature Count 9\n"
          ]
        }
      ]
    },
    {
      "cell_type": "code",
      "source": [
        "dataset['Marital_Status'].unique()"
      ],
      "metadata": {
        "colab": {
          "base_uri": "https://localhost:8080/"
        },
        "id": "0dexfc4w1eR9",
        "outputId": "e1052f60-c942-4c82-b59d-306bd35b782a"
      },
      "execution_count": 60,
      "outputs": [
        {
          "output_type": "execute_result",
          "data": {
            "text/plain": [
              "array(['Divorced', 'Single', 'Married', 'Together', 'Widow', 'YOLO',\n",
              "       'Alone', 'Absurd'], dtype=object)"
            ]
          },
          "metadata": {},
          "execution_count": 60
        }
      ]
    },
    {
      "cell_type": "code",
      "source": [
        "dataset['Marital_Status'] = dataset['Marital_Status'].replace(['YOLO','Alone', 'Absurd'],'Single')"
      ],
      "metadata": {
        "id": "RGzfWcBD1ePb"
      },
      "execution_count": 61,
      "outputs": []
    },
    {
      "cell_type": "code",
      "source": [
        "dataset['Marital_Status'].unique()"
      ],
      "metadata": {
        "colab": {
          "base_uri": "https://localhost:8080/"
        },
        "id": "yrdtmH4u1eMA",
        "outputId": "dd11a59a-8164-4fe9-9ade-441ead9fda83"
      },
      "execution_count": 62,
      "outputs": [
        {
          "output_type": "execute_result",
          "data": {
            "text/plain": [
              "array(['Divorced', 'Single', 'Married', 'Together', 'Widow'], dtype=object)"
            ]
          },
          "metadata": {},
          "execution_count": 62
        }
      ]
    },
    {
      "cell_type": "code",
      "source": [
        "dataset['Education'].value_counts()"
      ],
      "metadata": {
        "colab": {
          "base_uri": "https://localhost:8080/"
        },
        "id": "GDRZ4bnu1p5U",
        "outputId": "0c6c77bf-7109-4294-9544-6d96ced04abd"
      },
      "execution_count": 63,
      "outputs": [
        {
          "output_type": "execute_result",
          "data": {
            "text/plain": [
              "Graduation    1127\n",
              "PhD            486\n",
              "Master         370\n",
              "2n Cycle       203\n",
              "Basic           54\n",
              "Name: Education, dtype: int64"
            ]
          },
          "metadata": {},
          "execution_count": 63
        }
      ]
    },
    {
      "cell_type": "code",
      "source": [
        "#change 2n cycle to master in education column\n",
        "dataset['Education']=dataset['Education'].replace(['2n Cycle'],'Master')"
      ],
      "metadata": {
        "id": "mJu8F_PY1pzt"
      },
      "execution_count": 64,
      "outputs": []
    },
    {
      "cell_type": "code",
      "source": [
        "dataset['Education'].unique()"
      ],
      "metadata": {
        "colab": {
          "base_uri": "https://localhost:8080/"
        },
        "id": "MeifJTas1ptq",
        "outputId": "936eb3b7-f448-47a8-bbcd-d021aef75f1a"
      },
      "execution_count": 65,
      "outputs": [
        {
          "output_type": "execute_result",
          "data": {
            "text/plain": [
              "array(['Graduation', 'PhD', 'Master', 'Basic'], dtype=object)"
            ]
          },
          "metadata": {},
          "execution_count": 65
        }
      ]
    },
    {
      "cell_type": "code",
      "source": [
        ""
      ],
      "metadata": {
        "id": "CpbUcrGV1ppR"
      },
      "execution_count": 65,
      "outputs": []
    },
    {
      "cell_type": "markdown",
      "source": [
        "Temporal variables(datetime variable)"
      ],
      "metadata": {
        "id": "EUSYspJNRrh0"
      }
    },
    {
      "cell_type": "code",
      "source": [
        "# list of variables that contain year information\n",
        "year_feature = [feature for feature in numerical_features if 'Yr' in feature or 'Year' in feature]\n",
        "\n",
        "year_feature"
      ],
      "metadata": {
        "colab": {
          "base_uri": "https://localhost:8080/"
        },
        "id": "vzNhu_mIRbzN",
        "outputId": "7a4edb8a-2237-4db4-e1f9-a33135384460"
      },
      "execution_count": 66,
      "outputs": [
        {
          "output_type": "execute_result",
          "data": {
            "text/plain": [
              "['Year_Birth']"
            ]
          },
          "metadata": {},
          "execution_count": 66
        }
      ]
    },
    {
      "cell_type": "markdown",
      "source": [
        "Children -> 'Kidhome'+'Teenhome'\n",
        "Total_Mnt -> 'MntWines','MntFruits', 'MntMeatProducts', 'MntFishProducts', 'MntSweetProducts', 'MntGoldProds',\n",
        "Total_Purchases-> 'NumDealsPurchases', 'NumWebPurchases', 'NumCatalogPurchases', 'NumStorePurchases', 'NumWebVisitsMonth'\n",
        "Total_Cmp -> 'AcceptedCmp3', 'AcceptedCmp4', 'AcceptedCmp5', 'AcceptedCmp1', 'AcceptedCmp2',"
      ],
      "metadata": {
        "id": "pn5y_b_XYTWN"
      }
    },
    {
      "cell_type": "code",
      "source": [
        "#Creating a new feature\n",
        "dataset[\"Total_Minors\"]=dataset['Kidhome'] + dataset[\"Teenhome\"]\n",
        "dataset[\"Total_Mnt\"]=dataset['MntWines'] + dataset[\"MntFruits\"] + dataset[\"MntMeatProducts\"] + dataset[\"MntFishProducts\"] + dataset[\"MntSweetProducts\"] + dataset[\"MntGoldProds\"]\n",
        "dataset[\"Total_Num\"]=dataset[\"NumDealsPurchases\"]+dataset[\"NumWebPurchases\"]+dataset[\"NumCatalogPurchases\"]+dataset[\"NumStorePurchases\"]+dataset[\"NumWebVisitsMonth\"]\n",
        "dataset[\"Total_AcceptedCmp\"]=dataset[\"AcceptedCmp3\"]+dataset[\"AcceptedCmp4\"]+dataset[\"AcceptedCmp5\"]+dataset[\"AcceptedCmp1\"]+dataset[\"AcceptedCmp2\"]"
      ],
      "metadata": {
        "id": "Bo1yyrMgUvKU"
      },
      "execution_count": 67,
      "outputs": []
    },
    {
      "cell_type": "code",
      "source": [
        "#Calculating Age from Birth_Year\n",
        "from datetime import date\n",
        "dataset['Age']= date.today().year-dataset['Year_Birth']\n"
      ],
      "metadata": {
        "id": "Os8Ls1VlSZ7n"
      },
      "execution_count": 68,
      "outputs": []
    },
    {
      "cell_type": "markdown",
      "source": [
        "# Analysing the Date Column"
      ],
      "metadata": {
        "id": "qUa54NIN5hLD"
      }
    },
    {
      "cell_type": "code",
      "source": [
        "dataset['Dt_Customer']=pd.to_datetime(dataset['Dt_Customer'])"
      ],
      "metadata": {
        "id": "ls1ZFzhDa1nQ"
      },
      "execution_count": 69,
      "outputs": []
    },
    {
      "cell_type": "code",
      "source": [
        "import datetime as dt"
      ],
      "metadata": {
        "id": "9xxSe7EN5F3C"
      },
      "execution_count": 70,
      "outputs": []
    },
    {
      "cell_type": "code",
      "source": [
        "dataset['joining_month']=dataset['Dt_Customer'].dt.month\n",
        "dataset['joining_year']=dataset['Dt_Customer'].dt.year\n",
        "dataset['joining_days']=dataset['Dt_Customer'].dt.day\n",
        "dataset['joining_weekday']=dataset['Dt_Customer'].dt.weekday"
      ],
      "metadata": {
        "id": "vGqK3OTx5Fya"
      },
      "execution_count": 71,
      "outputs": []
    },
    {
      "cell_type": "code",
      "source": [
        "df1 = dataset.groupby('joining_month').count()\n",
        "\n",
        "df2 = dataset.groupby('joining_year').count()\n",
        "df3=dataset.groupby('joining_days').count()\n",
        "df4=dataset.groupby('joining_weekday').count()"
      ],
      "metadata": {
        "id": "_E6Mx73W5Fup"
      },
      "execution_count": 72,
      "outputs": []
    },
    {
      "cell_type": "code",
      "source": [
        "dataset.head()"
      ],
      "metadata": {
        "colab": {
          "base_uri": "https://localhost:8080/",
          "height": 270
        },
        "id": "ecbpEv2dU1qz",
        "outputId": "d53600a8-79f3-4f46-c52b-7bd1152a276d"
      },
      "execution_count": 73,
      "outputs": [
        {
          "output_type": "execute_result",
          "data": {
            "text/plain": [
              "      ID  Year_Birth   Education Marital_Status   Income  Kidhome  Teenhome  \\\n",
              "0   1826        1970  Graduation       Divorced  84835.0        0         0   \n",
              "1      1        1961  Graduation         Single  57091.0        0         0   \n",
              "2  10476        1958  Graduation        Married  67267.0        0         1   \n",
              "3   1386        1967  Graduation       Together  32474.0        1         1   \n",
              "4   5371        1989  Graduation         Single  21474.0        1         0   \n",
              "\n",
              "  Dt_Customer  Recency  MntWines  MntFruits  MntMeatProducts  MntFishProducts  \\\n",
              "0  2014-06-16        0       189        104              379              111   \n",
              "1  2014-06-15        0       464          5               64                7   \n",
              "2  2014-05-13        0       134         11               59               15   \n",
              "3  2014-05-11        0        10          0                1                0   \n",
              "4  2014-04-08        0         6         16               24               11   \n",
              "\n",
              "   MntSweetProducts  MntGoldProds  NumDealsPurchases  NumWebPurchases  \\\n",
              "0               189           218                  1                4   \n",
              "1                 0            37                  1                7   \n",
              "2                 2            30                  1                3   \n",
              "3                 0             0                  1                1   \n",
              "4                 0            34                  2                3   \n",
              "\n",
              "   NumCatalogPurchases  NumStorePurchases  NumWebVisitsMonth  AcceptedCmp3  \\\n",
              "0                    4                  6                  1             0   \n",
              "1                    3                  7                  5             0   \n",
              "2                    2                  5                  2             0   \n",
              "3                    0                  2                  7             0   \n",
              "4                    1                  2                  7             1   \n",
              "\n",
              "   AcceptedCmp4  AcceptedCmp5  AcceptedCmp1  AcceptedCmp2  Response  Complain  \\\n",
              "0             0             0             0             0         1         0   \n",
              "1             0             0             0             1         1         0   \n",
              "2             0             0             0             0         0         0   \n",
              "3             0             0             0             0         0         0   \n",
              "4             0             0             0             0         1         0   \n",
              "\n",
              "  Country  Total_Minors  Total_Mnt  Total_Num  Total_AcceptedCmp  Age  \\\n",
              "0      SP             0       1190         16                  0   52   \n",
              "1      CA             0        577         23                  1   61   \n",
              "2      US             1        251         13                  0   64   \n",
              "3     AUS             2         11         11                  0   55   \n",
              "4      SP             1         91         15                  1   33   \n",
              "\n",
              "   joining_month  joining_year  joining_days  joining_weekday  \n",
              "0              6          2014            16                0  \n",
              "1              6          2014            15                6  \n",
              "2              5          2014            13                1  \n",
              "3              5          2014            11                6  \n",
              "4              4          2014             8                1  "
            ],
            "text/html": [
              "\n",
              "  <div id=\"df-c2fa2d68-05e6-4e44-8509-c24ba37e31c1\">\n",
              "    <div class=\"colab-df-container\">\n",
              "      <div>\n",
              "<style scoped>\n",
              "    .dataframe tbody tr th:only-of-type {\n",
              "        vertical-align: middle;\n",
              "    }\n",
              "\n",
              "    .dataframe tbody tr th {\n",
              "        vertical-align: top;\n",
              "    }\n",
              "\n",
              "    .dataframe thead th {\n",
              "        text-align: right;\n",
              "    }\n",
              "</style>\n",
              "<table border=\"1\" class=\"dataframe\">\n",
              "  <thead>\n",
              "    <tr style=\"text-align: right;\">\n",
              "      <th></th>\n",
              "      <th>ID</th>\n",
              "      <th>Year_Birth</th>\n",
              "      <th>Education</th>\n",
              "      <th>Marital_Status</th>\n",
              "      <th>Income</th>\n",
              "      <th>Kidhome</th>\n",
              "      <th>Teenhome</th>\n",
              "      <th>Dt_Customer</th>\n",
              "      <th>Recency</th>\n",
              "      <th>MntWines</th>\n",
              "      <th>MntFruits</th>\n",
              "      <th>MntMeatProducts</th>\n",
              "      <th>MntFishProducts</th>\n",
              "      <th>MntSweetProducts</th>\n",
              "      <th>MntGoldProds</th>\n",
              "      <th>NumDealsPurchases</th>\n",
              "      <th>NumWebPurchases</th>\n",
              "      <th>NumCatalogPurchases</th>\n",
              "      <th>NumStorePurchases</th>\n",
              "      <th>NumWebVisitsMonth</th>\n",
              "      <th>AcceptedCmp3</th>\n",
              "      <th>AcceptedCmp4</th>\n",
              "      <th>AcceptedCmp5</th>\n",
              "      <th>AcceptedCmp1</th>\n",
              "      <th>AcceptedCmp2</th>\n",
              "      <th>Response</th>\n",
              "      <th>Complain</th>\n",
              "      <th>Country</th>\n",
              "      <th>Total_Minors</th>\n",
              "      <th>Total_Mnt</th>\n",
              "      <th>Total_Num</th>\n",
              "      <th>Total_AcceptedCmp</th>\n",
              "      <th>Age</th>\n",
              "      <th>joining_month</th>\n",
              "      <th>joining_year</th>\n",
              "      <th>joining_days</th>\n",
              "      <th>joining_weekday</th>\n",
              "    </tr>\n",
              "  </thead>\n",
              "  <tbody>\n",
              "    <tr>\n",
              "      <th>0</th>\n",
              "      <td>1826</td>\n",
              "      <td>1970</td>\n",
              "      <td>Graduation</td>\n",
              "      <td>Divorced</td>\n",
              "      <td>84835.0</td>\n",
              "      <td>0</td>\n",
              "      <td>0</td>\n",
              "      <td>2014-06-16</td>\n",
              "      <td>0</td>\n",
              "      <td>189</td>\n",
              "      <td>104</td>\n",
              "      <td>379</td>\n",
              "      <td>111</td>\n",
              "      <td>189</td>\n",
              "      <td>218</td>\n",
              "      <td>1</td>\n",
              "      <td>4</td>\n",
              "      <td>4</td>\n",
              "      <td>6</td>\n",
              "      <td>1</td>\n",
              "      <td>0</td>\n",
              "      <td>0</td>\n",
              "      <td>0</td>\n",
              "      <td>0</td>\n",
              "      <td>0</td>\n",
              "      <td>1</td>\n",
              "      <td>0</td>\n",
              "      <td>SP</td>\n",
              "      <td>0</td>\n",
              "      <td>1190</td>\n",
              "      <td>16</td>\n",
              "      <td>0</td>\n",
              "      <td>52</td>\n",
              "      <td>6</td>\n",
              "      <td>2014</td>\n",
              "      <td>16</td>\n",
              "      <td>0</td>\n",
              "    </tr>\n",
              "    <tr>\n",
              "      <th>1</th>\n",
              "      <td>1</td>\n",
              "      <td>1961</td>\n",
              "      <td>Graduation</td>\n",
              "      <td>Single</td>\n",
              "      <td>57091.0</td>\n",
              "      <td>0</td>\n",
              "      <td>0</td>\n",
              "      <td>2014-06-15</td>\n",
              "      <td>0</td>\n",
              "      <td>464</td>\n",
              "      <td>5</td>\n",
              "      <td>64</td>\n",
              "      <td>7</td>\n",
              "      <td>0</td>\n",
              "      <td>37</td>\n",
              "      <td>1</td>\n",
              "      <td>7</td>\n",
              "      <td>3</td>\n",
              "      <td>7</td>\n",
              "      <td>5</td>\n",
              "      <td>0</td>\n",
              "      <td>0</td>\n",
              "      <td>0</td>\n",
              "      <td>0</td>\n",
              "      <td>1</td>\n",
              "      <td>1</td>\n",
              "      <td>0</td>\n",
              "      <td>CA</td>\n",
              "      <td>0</td>\n",
              "      <td>577</td>\n",
              "      <td>23</td>\n",
              "      <td>1</td>\n",
              "      <td>61</td>\n",
              "      <td>6</td>\n",
              "      <td>2014</td>\n",
              "      <td>15</td>\n",
              "      <td>6</td>\n",
              "    </tr>\n",
              "    <tr>\n",
              "      <th>2</th>\n",
              "      <td>10476</td>\n",
              "      <td>1958</td>\n",
              "      <td>Graduation</td>\n",
              "      <td>Married</td>\n",
              "      <td>67267.0</td>\n",
              "      <td>0</td>\n",
              "      <td>1</td>\n",
              "      <td>2014-05-13</td>\n",
              "      <td>0</td>\n",
              "      <td>134</td>\n",
              "      <td>11</td>\n",
              "      <td>59</td>\n",
              "      <td>15</td>\n",
              "      <td>2</td>\n",
              "      <td>30</td>\n",
              "      <td>1</td>\n",
              "      <td>3</td>\n",
              "      <td>2</td>\n",
              "      <td>5</td>\n",
              "      <td>2</td>\n",
              "      <td>0</td>\n",
              "      <td>0</td>\n",
              "      <td>0</td>\n",
              "      <td>0</td>\n",
              "      <td>0</td>\n",
              "      <td>0</td>\n",
              "      <td>0</td>\n",
              "      <td>US</td>\n",
              "      <td>1</td>\n",
              "      <td>251</td>\n",
              "      <td>13</td>\n",
              "      <td>0</td>\n",
              "      <td>64</td>\n",
              "      <td>5</td>\n",
              "      <td>2014</td>\n",
              "      <td>13</td>\n",
              "      <td>1</td>\n",
              "    </tr>\n",
              "    <tr>\n",
              "      <th>3</th>\n",
              "      <td>1386</td>\n",
              "      <td>1967</td>\n",
              "      <td>Graduation</td>\n",
              "      <td>Together</td>\n",
              "      <td>32474.0</td>\n",
              "      <td>1</td>\n",
              "      <td>1</td>\n",
              "      <td>2014-05-11</td>\n",
              "      <td>0</td>\n",
              "      <td>10</td>\n",
              "      <td>0</td>\n",
              "      <td>1</td>\n",
              "      <td>0</td>\n",
              "      <td>0</td>\n",
              "      <td>0</td>\n",
              "      <td>1</td>\n",
              "      <td>1</td>\n",
              "      <td>0</td>\n",
              "      <td>2</td>\n",
              "      <td>7</td>\n",
              "      <td>0</td>\n",
              "      <td>0</td>\n",
              "      <td>0</td>\n",
              "      <td>0</td>\n",
              "      <td>0</td>\n",
              "      <td>0</td>\n",
              "      <td>0</td>\n",
              "      <td>AUS</td>\n",
              "      <td>2</td>\n",
              "      <td>11</td>\n",
              "      <td>11</td>\n",
              "      <td>0</td>\n",
              "      <td>55</td>\n",
              "      <td>5</td>\n",
              "      <td>2014</td>\n",
              "      <td>11</td>\n",
              "      <td>6</td>\n",
              "    </tr>\n",
              "    <tr>\n",
              "      <th>4</th>\n",
              "      <td>5371</td>\n",
              "      <td>1989</td>\n",
              "      <td>Graduation</td>\n",
              "      <td>Single</td>\n",
              "      <td>21474.0</td>\n",
              "      <td>1</td>\n",
              "      <td>0</td>\n",
              "      <td>2014-04-08</td>\n",
              "      <td>0</td>\n",
              "      <td>6</td>\n",
              "      <td>16</td>\n",
              "      <td>24</td>\n",
              "      <td>11</td>\n",
              "      <td>0</td>\n",
              "      <td>34</td>\n",
              "      <td>2</td>\n",
              "      <td>3</td>\n",
              "      <td>1</td>\n",
              "      <td>2</td>\n",
              "      <td>7</td>\n",
              "      <td>1</td>\n",
              "      <td>0</td>\n",
              "      <td>0</td>\n",
              "      <td>0</td>\n",
              "      <td>0</td>\n",
              "      <td>1</td>\n",
              "      <td>0</td>\n",
              "      <td>SP</td>\n",
              "      <td>1</td>\n",
              "      <td>91</td>\n",
              "      <td>15</td>\n",
              "      <td>1</td>\n",
              "      <td>33</td>\n",
              "      <td>4</td>\n",
              "      <td>2014</td>\n",
              "      <td>8</td>\n",
              "      <td>1</td>\n",
              "    </tr>\n",
              "  </tbody>\n",
              "</table>\n",
              "</div>\n",
              "      <button class=\"colab-df-convert\" onclick=\"convertToInteractive('df-c2fa2d68-05e6-4e44-8509-c24ba37e31c1')\"\n",
              "              title=\"Convert this dataframe to an interactive table.\"\n",
              "              style=\"display:none;\">\n",
              "        \n",
              "  <svg xmlns=\"http://www.w3.org/2000/svg\" height=\"24px\"viewBox=\"0 0 24 24\"\n",
              "       width=\"24px\">\n",
              "    <path d=\"M0 0h24v24H0V0z\" fill=\"none\"/>\n",
              "    <path d=\"M18.56 5.44l.94 2.06.94-2.06 2.06-.94-2.06-.94-.94-2.06-.94 2.06-2.06.94zm-11 1L8.5 8.5l.94-2.06 2.06-.94-2.06-.94L8.5 2.5l-.94 2.06-2.06.94zm10 10l.94 2.06.94-2.06 2.06-.94-2.06-.94-.94-2.06-.94 2.06-2.06.94z\"/><path d=\"M17.41 7.96l-1.37-1.37c-.4-.4-.92-.59-1.43-.59-.52 0-1.04.2-1.43.59L10.3 9.45l-7.72 7.72c-.78.78-.78 2.05 0 2.83L4 21.41c.39.39.9.59 1.41.59.51 0 1.02-.2 1.41-.59l7.78-7.78 2.81-2.81c.8-.78.8-2.07 0-2.86zM5.41 20L4 18.59l7.72-7.72 1.47 1.35L5.41 20z\"/>\n",
              "  </svg>\n",
              "      </button>\n",
              "      \n",
              "  <style>\n",
              "    .colab-df-container {\n",
              "      display:flex;\n",
              "      flex-wrap:wrap;\n",
              "      gap: 12px;\n",
              "    }\n",
              "\n",
              "    .colab-df-convert {\n",
              "      background-color: #E8F0FE;\n",
              "      border: none;\n",
              "      border-radius: 50%;\n",
              "      cursor: pointer;\n",
              "      display: none;\n",
              "      fill: #1967D2;\n",
              "      height: 32px;\n",
              "      padding: 0 0 0 0;\n",
              "      width: 32px;\n",
              "    }\n",
              "\n",
              "    .colab-df-convert:hover {\n",
              "      background-color: #E2EBFA;\n",
              "      box-shadow: 0px 1px 2px rgba(60, 64, 67, 0.3), 0px 1px 3px 1px rgba(60, 64, 67, 0.15);\n",
              "      fill: #174EA6;\n",
              "    }\n",
              "\n",
              "    [theme=dark] .colab-df-convert {\n",
              "      background-color: #3B4455;\n",
              "      fill: #D2E3FC;\n",
              "    }\n",
              "\n",
              "    [theme=dark] .colab-df-convert:hover {\n",
              "      background-color: #434B5C;\n",
              "      box-shadow: 0px 1px 3px 1px rgba(0, 0, 0, 0.15);\n",
              "      filter: drop-shadow(0px 1px 2px rgba(0, 0, 0, 0.3));\n",
              "      fill: #FFFFFF;\n",
              "    }\n",
              "  </style>\n",
              "\n",
              "      <script>\n",
              "        const buttonEl =\n",
              "          document.querySelector('#df-c2fa2d68-05e6-4e44-8509-c24ba37e31c1 button.colab-df-convert');\n",
              "        buttonEl.style.display =\n",
              "          google.colab.kernel.accessAllowed ? 'block' : 'none';\n",
              "\n",
              "        async function convertToInteractive(key) {\n",
              "          const element = document.querySelector('#df-c2fa2d68-05e6-4e44-8509-c24ba37e31c1');\n",
              "          const dataTable =\n",
              "            await google.colab.kernel.invokeFunction('convertToInteractive',\n",
              "                                                     [key], {});\n",
              "          if (!dataTable) return;\n",
              "\n",
              "          const docLinkHtml = 'Like what you see? Visit the ' +\n",
              "            '<a target=\"_blank\" href=https://colab.research.google.com/notebooks/data_table.ipynb>data table notebook</a>'\n",
              "            + ' to learn more about interactive tables.';\n",
              "          element.innerHTML = '';\n",
              "          dataTable['output_type'] = 'display_data';\n",
              "          await google.colab.output.renderOutput(dataTable, element);\n",
              "          const docLink = document.createElement('div');\n",
              "          docLink.innerHTML = docLinkHtml;\n",
              "          element.appendChild(docLink);\n",
              "        }\n",
              "      </script>\n",
              "    </div>\n",
              "  </div>\n",
              "  "
            ]
          },
          "metadata": {},
          "execution_count": 73
        }
      ]
    },
    {
      "cell_type": "markdown",
      "source": [
        "# Outlier Detection"
      ],
      "metadata": {
        "id": "lNSEHmvH61LS"
      }
    },
    {
      "cell_type": "markdown",
      "source": [
        "Finding OUTLIERS\n",
        "\n",
        "What is an outlier? An outlier is a data point in a data set that is distant from all other observations. A data point that lies outside the overall distribution of the dataset.\n",
        "\n",
        "What are the criteria to identify an outlier? Data point that falls outside of 1.5 times of an interquartile range above the 3rd quartile and below the 1st quartile Data point that falls outside of 3 standard deviations. we can use a z score and if the z score falls outside of 2 standard deviation\n",
        "\n",
        "What is the reason for an outlier to exists in a dataset? Variability in the data An experimental measurement error\n",
        "\n",
        "What are the impacts of having outliers in a dataset? It causes various problems during our statistical analysis It may cause a significant impact on the mean and the standard deviation\n",
        "\n",
        "Various ways of finding the outlier. Using scatter plots Box plot using z score using the IQR interquantile range"
      ],
      "metadata": {
        "id": "wqCsueuEbL9_"
      }
    },
    {
      "cell_type": "code",
      "source": [
        "#See if there is any outliers\n",
        "\n",
        "# select columns to plot\n",
        "df_to_plot = dataset.drop(columns=['ID', 'AcceptedCmp1', 'AcceptedCmp2', 'AcceptedCmp3', 'AcceptedCmp4', 'AcceptedCmp5', 'Response', 'Complain']).select_dtypes(include=np.number)\n",
        "# subplots\n",
        "df_to_plot.plot(subplots=True, layout=(3,11), kind='box', figsize=(30,20), patch_artist=True)\n",
        "plt.suptitle('Find Outliers', fontsize=15, y=0.9)\n",
        "plt.savefig('boxplots.png')\n",
        "plt.show()"
      ],
      "metadata": {
        "colab": {
          "base_uri": "https://localhost:8080/",
          "height": 838
        },
        "id": "OXNZFW_ubJdD",
        "outputId": "b83f14ba-2067-48b1-9b6c-987a14a20031"
      },
      "execution_count": 74,
      "outputs": [
        {
          "output_type": "display_data",
          "data": {
            "text/plain": [
              "<Figure size 2160x1440 with 33 Axes>"
            ],
            "image/png": "[encoded data removed]"
          },
          "metadata": {}
        }
      ]
    },
    {
      "cell_type": "markdown",
      "source": [
        "The outliers in the Year_birth looks like entry error as the data in it seems surreal (someone with age more than 122 years)  "
      ],
      "metadata": {
        "id": "rU-p6zSCwY5P"
      }
    },
    {
      "cell_type": "code",
      "source": [
        "dataset.to_csv('marketing-data-full.csv')"
      ],
      "metadata": {
        "id": "kXiDpYsdU5w9"
      },
      "execution_count": 75,
      "outputs": []
    },
    {
      "cell_type": "code",
      "source": [
        "dataset.columns"
      ],
      "metadata": {
        "colab": {
          "base_uri": "https://localhost:8080/"
        },
        "id": "RBOj564sdTi2",
        "outputId": "34a39149-b2a3-48c3-deb4-7e132da5c179"
      },
      "execution_count": 76,
      "outputs": [
        {
          "output_type": "execute_result",
          "data": {
            "text/plain": [
              "Index(['ID', 'Year_Birth', 'Education', 'Marital_Status', 'Income', 'Kidhome',\n",
              "       'Teenhome', 'Dt_Customer', 'Recency', 'MntWines', 'MntFruits',\n",
              "       'MntMeatProducts', 'MntFishProducts', 'MntSweetProducts',\n",
              "       'MntGoldProds', 'NumDealsPurchases', 'NumWebPurchases',\n",
              "       'NumCatalogPurchases', 'NumStorePurchases', 'NumWebVisitsMonth',\n",
              "       'AcceptedCmp3', 'AcceptedCmp4', 'AcceptedCmp5', 'AcceptedCmp1',\n",
              "       'AcceptedCmp2', 'Response', 'Complain', 'Country', 'Total_Minors',\n",
              "       'Total_Mnt', 'Total_Num', 'Total_AcceptedCmp', 'Age', 'joining_month',\n",
              "       'joining_year', 'joining_days', 'joining_weekday'],\n",
              "      dtype='object')"
            ]
          },
          "metadata": {},
          "execution_count": 76
        }
      ]
    },
    {
      "cell_type": "markdown",
      "source": [
        "# DATA VISUALIZATION"
      ],
      "metadata": {
        "id": "2ZMRip86WZVl"
      }
    },
    {
      "cell_type": "markdown",
      "source": [
        "**1) What is the Age Distribution in the dataset?**"
      ],
      "metadata": {
        "id": "liyH1UjU7VF8"
      }
    },
    {
      "cell_type": "code",
      "source": [
        "plt.figure(figsize=(15,6),dpi=100)\n",
        "plt.title('Age Of Customers')\n",
        "ax = sns.countplot(x=dataset['Age']);\n",
        "for p in ax.patches: \n",
        "    ax.annotate('{:}'.format(p.get_height()), (p.get_x()+0.25, p.get_height()+0.01)) \n",
        "plt.show()"
      ],
      "metadata": {
        "colab": {
          "base_uri": "https://localhost:8080/",
          "height": 564
        },
        "id": "rNIAXJ0Ge6Ve",
        "outputId": "541302af-e919-401f-f204-8bf51fb39e89"
      },
      "execution_count": 78,
      "outputs": [
        {
          "output_type": "display_data",
          "data": {
            "text/plain": [
              "<Figure size 1500x600 with 1 Axes>"
            ],
            "image/png": "[encoded data removed]"
          },
          "metadata": {}
        }
      ]
    },
    {
      "cell_type": "markdown",
      "source": [
        "**2) What are the most Revenue Generating Products?**"
      ],
      "metadata": {
        "id": "A9ONxagf7ttx"
      }
    },
    {
      "cell_type": "code",
      "source": [
        "revenue=pd.DataFrame(dataset.iloc[:,9:15].sum(),columns=['rev_generated']).reset_index()\n",
        "revenue"
      ],
      "metadata": {
        "id": "xxBaHsyfe6QW",
        "colab": {
          "base_uri": "https://localhost:8080/",
          "height": 238
        },
        "outputId": "aef8aced-036b-44d9-f7ca-2975bfcf0a1d"
      },
      "execution_count": 79,
      "outputs": [
        {
          "output_type": "execute_result",
          "data": {
            "text/plain": [
              "              index  rev_generated\n",
              "0          MntWines         680816\n",
              "1         MntFruits          58917\n",
              "2   MntMeatProducts         373968\n",
              "3   MntFishProducts          84057\n",
              "4  MntSweetProducts          60621\n",
              "5      MntGoldProds          98609"
            ],
            "text/html": [
              "\n",
              "  <div id=\"df-e161ef8f-7f60-46be-94b6-a17d62379c45\">\n",
              "    <div class=\"colab-df-container\">\n",
              "      <div>\n",
              "<style scoped>\n",
              "    .dataframe tbody tr th:only-of-type {\n",
              "        vertical-align: middle;\n",
              "    }\n",
              "\n",
              "    .dataframe tbody tr th {\n",
              "        vertical-align: top;\n",
              "    }\n",
              "\n",
              "    .dataframe thead th {\n",
              "        text-align: right;\n",
              "    }\n",
              "</style>\n",
              "<table border=\"1\" class=\"dataframe\">\n",
              "  <thead>\n",
              "    <tr style=\"text-align: right;\">\n",
              "      <th></th>\n",
              "      <th>index</th>\n",
              "      <th>rev_generated</th>\n",
              "    </tr>\n",
              "  </thead>\n",
              "  <tbody>\n",
              "    <tr>\n",
              "      <th>0</th>\n",
              "      <td>MntWines</td>\n",
              "      <td>680816</td>\n",
              "    </tr>\n",
              "    <tr>\n",
              "      <th>1</th>\n",
              "      <td>MntFruits</td>\n",
              "      <td>58917</td>\n",
              "    </tr>\n",
              "    <tr>\n",
              "      <th>2</th>\n",
              "      <td>MntMeatProducts</td>\n",
              "      <td>373968</td>\n",
              "    </tr>\n",
              "    <tr>\n",
              "      <th>3</th>\n",
              "      <td>MntFishProducts</td>\n",
              "      <td>84057</td>\n",
              "    </tr>\n",
              "    <tr>\n",
              "      <th>4</th>\n",
              "      <td>MntSweetProducts</td>\n",
              "      <td>60621</td>\n",
              "    </tr>\n",
              "    <tr>\n",
              "      <th>5</th>\n",
              "      <td>MntGoldProds</td>\n",
              "      <td>98609</td>\n",
              "    </tr>\n",
              "  </tbody>\n",
              "</table>\n",
              "</div>\n",
              "      <button class=\"colab-df-convert\" onclick=\"convertToInteractive('df-e161ef8f-7f60-46be-94b6-a17d62379c45')\"\n",
              "              title=\"Convert this dataframe to an interactive table.\"\n",
              "              style=\"display:none;\">\n",
              "        \n",
              "  <svg xmlns=\"http://www.w3.org/2000/svg\" height=\"24px\"viewBox=\"0 0 24 24\"\n",
              "       width=\"24px\">\n",
              "    <path d=\"M0 0h24v24H0V0z\" fill=\"none\"/>\n",
              "    <path d=\"M18.56 5.44l.94 2.06.94-2.06 2.06-.94-2.06-.94-.94-2.06-.94 2.06-2.06.94zm-11 1L8.5 8.5l.94-2.06 2.06-.94-2.06-.94L8.5 2.5l-.94 2.06-2.06.94zm10 10l.94 2.06.94-2.06 2.06-.94-2.06-.94-.94-2.06-.94 2.06-2.06.94z\"/><path d=\"M17.41 7.96l-1.37-1.37c-.4-.4-.92-.59-1.43-.59-.52 0-1.04.2-1.43.59L10.3 9.45l-7.72 7.72c-.78.78-.78 2.05 0 2.83L4 21.41c.39.39.9.59 1.41.59.51 0 1.02-.2 1.41-.59l7.78-7.78 2.81-2.81c.8-.78.8-2.07 0-2.86zM5.41 20L4 18.59l7.72-7.72 1.47 1.35L5.41 20z\"/>\n",
              "  </svg>\n",
              "      </button>\n",
              "      \n",
              "  <style>\n",
              "    .colab-df-container {\n",
              "      display:flex;\n",
              "      flex-wrap:wrap;\n",
              "      gap: 12px;\n",
              "    }\n",
              "\n",
              "    .colab-df-convert {\n",
              "      background-color: #E8F0FE;\n",
              "      border: none;\n",
              "      border-radius: 50%;\n",
              "      cursor: pointer;\n",
              "      display: none;\n",
              "      fill: #1967D2;\n",
              "      height: 32px;\n",
              "      padding: 0 0 0 0;\n",
              "      width: 32px;\n",
              "    }\n",
              "\n",
              "    .colab-df-convert:hover {\n",
              "      background-color: #E2EBFA;\n",
              "      box-shadow: 0px 1px 2px rgba(60, 64, 67, 0.3), 0px 1px 3px 1px rgba(60, 64, 67, 0.15);\n",
              "      fill: #174EA6;\n",
              "    }\n",
              "\n",
              "    [theme=dark] .colab-df-convert {\n",
              "      background-color: #3B4455;\n",
              "      fill: #D2E3FC;\n",
              "    }\n",
              "\n",
              "    [theme=dark] .colab-df-convert:hover {\n",
              "      background-color: #434B5C;\n",
              "      box-shadow: 0px 1px 3px 1px rgba(0, 0, 0, 0.15);\n",
              "      filter: drop-shadow(0px 1px 2px rgba(0, 0, 0, 0.3));\n",
              "      fill: #FFFFFF;\n",
              "    }\n",
              "  </style>\n",
              "\n",
              "      <script>\n",
              "        const buttonEl =\n",
              "          document.querySelector('#df-e161ef8f-7f60-46be-94b6-a17d62379c45 button.colab-df-convert');\n",
              "        buttonEl.style.display =\n",
              "          google.colab.kernel.accessAllowed ? 'block' : 'none';\n",
              "\n",
              "        async function convertToInteractive(key) {\n",
              "          const element = document.querySelector('#df-e161ef8f-7f60-46be-94b6-a17d62379c45');\n",
              "          const dataTable =\n",
              "            await google.colab.kernel.invokeFunction('convertToInteractive',\n",
              "                                                     [key], {});\n",
              "          if (!dataTable) return;\n",
              "\n",
              "          const docLinkHtml = 'Like what you see? Visit the ' +\n",
              "            '<a target=\"_blank\" href=https://colab.research.google.com/notebooks/data_table.ipynb>data table notebook</a>'\n",
              "            + ' to learn more about interactive tables.';\n",
              "          element.innerHTML = '';\n",
              "          dataTable['output_type'] = 'display_data';\n",
              "          await google.colab.output.renderOutput(dataTable, element);\n",
              "          const docLink = document.createElement('div');\n",
              "          docLink.innerHTML = docLinkHtml;\n",
              "          element.appendChild(docLink);\n",
              "        }\n",
              "      </script>\n",
              "    </div>\n",
              "  </div>\n",
              "  "
            ]
          },
          "metadata": {},
          "execution_count": 79
        }
      ]
    },
    {
      "cell_type": "code",
      "source": [
        "plt.figure(figsize=(8,5))\n",
        "plt.title(\"Revenue Generated by the Products\")\n",
        "yx=sns.barplot(x='index',y='rev_generated',data=revenue,palette='Spectral')\n",
        "plt.xlabel('Products')\n",
        "plt.ylabel('Revenue Generated')\n",
        "# for number to appear at the top of the bars\n",
        "for p in yx.patches: \n",
        "    yx.annotate('{:}'.format(p.get_height()), (p.get_x()+0.25, p.get_height()+0.01)) \n",
        "plt.show()\n"
      ],
      "metadata": {
        "colab": {
          "base_uri": "https://localhost:8080/",
          "height": 355
        },
        "id": "cY4bHSAP8QIY",
        "outputId": "5aec6483-80cc-469e-f426-a125f4a15ee2"
      },
      "execution_count": 81,
      "outputs": [
        {
          "output_type": "display_data",
          "data": {
            "text/plain": [
              "<Figure size 576x360 with 1 Axes>"
            ],
            "image/png": "[encoded data removed]"
          },
          "metadata": {}
        }
      ]
    },
    {
      "cell_type": "markdown",
      "source": [
        "From this we can infer the most product sold is wine and the least popular product is fruits along with sweets"
      ],
      "metadata": {
        "id": "wM0Y1XJu850p"
      }
    },
    {
      "cell_type": "markdown",
      "source": [
        "**3)Which Campaign is the most successful?**\n"
      ],
      "metadata": {
        "id": "Qk7NdmQW8dwy"
      }
    },
    {
      "cell_type": "code",
      "source": [
        "campaigns= pd.DataFrame(dataset.iloc[:,20:25].sum(),columns=['amount']).reset_index()"
      ],
      "metadata": {
        "id": "H5TdLqtc8QDY"
      },
      "execution_count": 82,
      "outputs": []
    },
    {
      "cell_type": "code",
      "source": [
        "campaigns"
      ],
      "metadata": {
        "colab": {
          "base_uri": "https://localhost:8080/",
          "height": 206
        },
        "id": "RRrj0sx18qkB",
        "outputId": "370bd709-aa98-4cca-f3bd-a96384d47a4f"
      },
      "execution_count": 83,
      "outputs": [
        {
          "output_type": "execute_result",
          "data": {
            "text/plain": [
              "          index  amount\n",
              "0  AcceptedCmp3     163\n",
              "1  AcceptedCmp4     167\n",
              "2  AcceptedCmp5     163\n",
              "3  AcceptedCmp1     144\n",
              "4  AcceptedCmp2      30"
            ],
            "text/html": [
              "\n",
              "  <div id=\"df-1177ed1c-37be-4bd6-b7b0-92b53c5f5f7d\">\n",
              "    <div class=\"colab-df-container\">\n",
              "      <div>\n",
              "<style scoped>\n",
              "    .dataframe tbody tr th:only-of-type {\n",
              "        vertical-align: middle;\n",
              "    }\n",
              "\n",
              "    .dataframe tbody tr th {\n",
              "        vertical-align: top;\n",
              "    }\n",
              "\n",
              "    .dataframe thead th {\n",
              "        text-align: right;\n",
              "    }\n",
              "</style>\n",
              "<table border=\"1\" class=\"dataframe\">\n",
              "  <thead>\n",
              "    <tr style=\"text-align: right;\">\n",
              "      <th></th>\n",
              "      <th>index</th>\n",
              "      <th>amount</th>\n",
              "    </tr>\n",
              "  </thead>\n",
              "  <tbody>\n",
              "    <tr>\n",
              "      <th>0</th>\n",
              "      <td>AcceptedCmp3</td>\n",
              "      <td>163</td>\n",
              "    </tr>\n",
              "    <tr>\n",
              "      <th>1</th>\n",
              "      <td>AcceptedCmp4</td>\n",
              "      <td>167</td>\n",
              "    </tr>\n",
              "    <tr>\n",
              "      <th>2</th>\n",
              "      <td>AcceptedCmp5</td>\n",
              "      <td>163</td>\n",
              "    </tr>\n",
              "    <tr>\n",
              "      <th>3</th>\n",
              "      <td>AcceptedCmp1</td>\n",
              "      <td>144</td>\n",
              "    </tr>\n",
              "    <tr>\n",
              "      <th>4</th>\n",
              "      <td>AcceptedCmp2</td>\n",
              "      <td>30</td>\n",
              "    </tr>\n",
              "  </tbody>\n",
              "</table>\n",
              "</div>\n",
              "      <button class=\"colab-df-convert\" onclick=\"convertToInteractive('df-1177ed1c-37be-4bd6-b7b0-92b53c5f5f7d')\"\n",
              "              title=\"Convert this dataframe to an interactive table.\"\n",
              "              style=\"display:none;\">\n",
              "        \n",
              "  <svg xmlns=\"http://www.w3.org/2000/svg\" height=\"24px\"viewBox=\"0 0 24 24\"\n",
              "       width=\"24px\">\n",
              "    <path d=\"M0 0h24v24H0V0z\" fill=\"none\"/>\n",
              "    <path d=\"M18.56 5.44l.94 2.06.94-2.06 2.06-.94-2.06-.94-.94-2.06-.94 2.06-2.06.94zm-11 1L8.5 8.5l.94-2.06 2.06-.94-2.06-.94L8.5 2.5l-.94 2.06-2.06.94zm10 10l.94 2.06.94-2.06 2.06-.94-2.06-.94-.94-2.06-.94 2.06-2.06.94z\"/><path d=\"M17.41 7.96l-1.37-1.37c-.4-.4-.92-.59-1.43-.59-.52 0-1.04.2-1.43.59L10.3 9.45l-7.72 7.72c-.78.78-.78 2.05 0 2.83L4 21.41c.39.39.9.59 1.41.59.51 0 1.02-.2 1.41-.59l7.78-7.78 2.81-2.81c.8-.78.8-2.07 0-2.86zM5.41 20L4 18.59l7.72-7.72 1.47 1.35L5.41 20z\"/>\n",
              "  </svg>\n",
              "      </button>\n",
              "      \n",
              "  <style>\n",
              "    .colab-df-container {\n",
              "      display:flex;\n",
              "      flex-wrap:wrap;\n",
              "      gap: 12px;\n",
              "    }\n",
              "\n",
              "    .colab-df-convert {\n",
              "      background-color: #E8F0FE;\n",
              "      border: none;\n",
              "      border-radius: 50%;\n",
              "      cursor: pointer;\n",
              "      display: none;\n",
              "      fill: #1967D2;\n",
              "      height: 32px;\n",
              "      padding: 0 0 0 0;\n",
              "      width: 32px;\n",
              "    }\n",
              "\n",
              "    .colab-df-convert:hover {\n",
              "      background-color: #E2EBFA;\n",
              "      box-shadow: 0px 1px 2px rgba(60, 64, 67, 0.3), 0px 1px 3px 1px rgba(60, 64, 67, 0.15);\n",
              "      fill: #174EA6;\n",
              "    }\n",
              "\n",
              "    [theme=dark] .colab-df-convert {\n",
              "      background-color: #3B4455;\n",
              "      fill: #D2E3FC;\n",
              "    }\n",
              "\n",
              "    [theme=dark] .colab-df-convert:hover {\n",
              "      background-color: #434B5C;\n",
              "      box-shadow: 0px 1px 3px 1px rgba(0, 0, 0, 0.15);\n",
              "      filter: drop-shadow(0px 1px 2px rgba(0, 0, 0, 0.3));\n",
              "      fill: #FFFFFF;\n",
              "    }\n",
              "  </style>\n",
              "\n",
              "      <script>\n",
              "        const buttonEl =\n",
              "          document.querySelector('#df-1177ed1c-37be-4bd6-b7b0-92b53c5f5f7d button.colab-df-convert');\n",
              "        buttonEl.style.display =\n",
              "          google.colab.kernel.accessAllowed ? 'block' : 'none';\n",
              "\n",
              "        async function convertToInteractive(key) {\n",
              "          const element = document.querySelector('#df-1177ed1c-37be-4bd6-b7b0-92b53c5f5f7d');\n",
              "          const dataTable =\n",
              "            await google.colab.kernel.invokeFunction('convertToInteractive',\n",
              "                                                     [key], {});\n",
              "          if (!dataTable) return;\n",
              "\n",
              "          const docLinkHtml = 'Like what you see? Visit the ' +\n",
              "            '<a target=\"_blank\" href=https://colab.research.google.com/notebooks/data_table.ipynb>data table notebook</a>'\n",
              "            + ' to learn more about interactive tables.';\n",
              "          element.innerHTML = '';\n",
              "          dataTable['output_type'] = 'display_data';\n",
              "          await google.colab.output.renderOutput(dataTable, element);\n",
              "          const docLink = document.createElement('div');\n",
              "          docLink.innerHTML = docLinkHtml;\n",
              "          element.appendChild(docLink);\n",
              "        }\n",
              "      </script>\n",
              "    </div>\n",
              "  </div>\n",
              "  "
            ]
          },
          "metadata": {},
          "execution_count": 83
        }
      ]
    },
    {
      "cell_type": "code",
      "source": [
        "plt.figure(figsize=(8,5))\n",
        "plt.title(\"Campaigns\")\n",
        "yx=sns.barplot(x='index',y='amount',data=campaigns)\n",
        "plt.xlabel('Campaigns')\n",
        "plt.ylabel('Number of campaigns')\n",
        "# for number to appear at the top of the bars\n",
        "for p in yx.patches: \n",
        "    yx.annotate('{:}'.format(p.get_height()), (p.get_x()+0.25, p.get_height()+0.01)) \n",
        "plt.show()"
      ],
      "metadata": {
        "colab": {
          "base_uri": "https://localhost:8080/",
          "height": 355
        },
        "id": "Arda_7Te8rJa",
        "outputId": "821b7255-7be4-495e-d1df-6c17c0609b89"
      },
      "execution_count": 84,
      "outputs": [
        {
          "output_type": "display_data",
          "data": {
            "text/plain": [
              "<Figure size 576x360 with 1 Axes>"
            ],
            "image/png": "[encoded data removed]"
          },
          "metadata": {}
        }
      ]
    },
    {
      "cell_type": "markdown",
      "source": [
        "Campaign 4 was the most successful campaign out of all the campaigns"
      ],
      "metadata": {
        "id": "-op2cqa48y0p"
      }
    },
    {
      "cell_type": "markdown",
      "source": [
        "**4)Does the number of minor affect the amount of purchases?**"
      ],
      "metadata": {
        "id": "FlHacliM8-9t"
      }
    },
    {
      "cell_type": "code",
      "source": [
        "plt.figure(figsize=(11,7))\n",
        "sns.swarmplot(x='Total_Minors',y='Total_Mnt',data=dataset)\n",
        "plt.title(\"Total amount spent v/s Total number of Minors\")"
      ],
      "metadata": {
        "colab": {
          "base_uri": "https://localhost:8080/",
          "height": 571
        },
        "id": "_ZD-kqyx8-jL",
        "outputId": "d1be2a63-fadb-4bc2-d0e1-c911d10e8071"
      },
      "execution_count": 86,
      "outputs": [
        {
          "output_type": "stream",
          "name": "stderr",
          "text": [
            "/usr/local/lib/python3.7/dist-packages/seaborn/categorical.py:1296: UserWarning: 34.8% of the points cannot be placed; you may want to decrease the size of the markers or use stripplot.\n",
            "  warnings.warn(msg, UserWarning)\n",
            "/usr/local/lib/python3.7/dist-packages/seaborn/categorical.py:1296: UserWarning: 35.9% of the points cannot be placed; you may want to decrease the size of the markers or use stripplot.\n",
            "  warnings.warn(msg, UserWarning)\n"
          ]
        },
        {
          "output_type": "execute_result",
          "data": {
            "text/plain": [
              "Text(0.5, 1.0, 'Total amount spent v/s Total number of Minors')"
            ]
          },
          "metadata": {},
          "execution_count": 86
        },
        {
          "output_type": "display_data",
          "data": {
            "text/plain": [
              "<Figure size 792x504 with 1 Axes>"
            ],
            "image/png": "[encoded data removed]"
          },
          "metadata": {}
        }
      ]
    },
    {
      "cell_type": "markdown",
      "source": [
        "From this we can infer that families with more minors tend to spent less than the families with no minors"
      ],
      "metadata": {
        "id": "EVznOOgH9pWB"
      }
    },
    {
      "cell_type": "markdown",
      "source": [
        "**5)What level of education do most complainants have?**"
      ],
      "metadata": {
        "id": "FyHwgfI29snz"
      }
    },
    {
      "cell_type": "code",
      "source": [
        "plt.figure(figsize=(10,5))\n",
        "ec = sns.countplot(x='Education',hue='Complain',data=dataset)\n",
        "for p in ec.patches: \n",
        "    ec.annotate('{:}'.format(p.get_height()), (p.get_x()+0.25, p.get_height()+0.01)) \n",
        "plt.show()"
      ],
      "metadata": {
        "colab": {
          "base_uri": "https://localhost:8080/",
          "height": 339
        },
        "id": "OXfVo0iFgpJk",
        "outputId": "a02022a1-aa88-4e09-b49d-05b9980786a4"
      },
      "execution_count": 87,
      "outputs": [
        {
          "output_type": "display_data",
          "data": {
            "text/plain": [
              "<Figure size 720x360 with 1 Axes>"
            ],
            "image/png": "[encoded data removed]"
          },
          "metadata": {}
        }
      ]
    },
    {
      "cell_type": "markdown",
      "source": [
        "Most of the complaints were made by customer with education of graduation"
      ],
      "metadata": {
        "id": "gzO5ryRk-BTJ"
      }
    },
    {
      "cell_type": "markdown",
      "source": [
        "**6)Top 5 countries of the Market**\n"
      ],
      "metadata": {
        "id": "ECNgU9y_-LNs"
      }
    },
    {
      "cell_type": "code",
      "source": [
        "country_names=dataset.Country.value_counts().index\n",
        "country_names"
      ],
      "metadata": {
        "colab": {
          "base_uri": "https://localhost:8080/"
        },
        "id": "_lMC3Xco8-fB",
        "outputId": "b1c3a61b-feff-4d00-b35d-ae075d221fb0"
      },
      "execution_count": 88,
      "outputs": [
        {
          "output_type": "execute_result",
          "data": {
            "text/plain": [
              "Index(['SP', 'SA', 'CA', 'AUS', 'IND', 'GER', 'US', 'ME'], dtype='object')"
            ]
          },
          "metadata": {},
          "execution_count": 88
        }
      ]
    },
    {
      "cell_type": "code",
      "source": [
        "country_val=dataset.Country.value_counts().values"
      ],
      "metadata": {
        "id": "fUu_WHVY9sDa"
      },
      "execution_count": 89,
      "outputs": []
    },
    {
      "cell_type": "code",
      "source": [
        "#pie chart top 5 countries that use this market\n",
        "plt.figure(figsize=(12,6))#colors\n",
        "colors = ['#ff9999','#66b3ff','#99ff99','#ffcc99','#B7C3F3']\n",
        "#explsion\n",
        "explode = (0.05,0.05,0.05,0.05,0.05,0.05,0.05,0.05)\n",
        "plt.pie(country_val[:5],labels=country_names[:5],autopct='%1.2f%%', colors = colors,startangle=90, pctdistance=0.8)\n",
        "plt.show()"
      ],
      "metadata": {
        "colab": {
          "base_uri": "https://localhost:8080/",
          "height": 357
        },
        "id": "FoLekQfF_Qoi",
        "outputId": "219441bc-9506-4fe8-d11d-82e93545f842"
      },
      "execution_count": 90,
      "outputs": [
        {
          "output_type": "display_data",
          "data": {
            "text/plain": [
              "<Figure size 864x432 with 1 Axes>"
            ],
            "image/png": "[encoded data removed]"
          },
          "metadata": {}
        }
      ]
    },
    {
      "cell_type": "markdown",
      "source": [
        "observation: 1) Most of the cutomers are from spain followed by south africa,canada, australia and lastly india."
      ],
      "metadata": {
        "id": "MPd2ps1b_UGb"
      }
    },
    {
      "cell_type": "markdown",
      "source": [
        "**7)Countries that have least participation in the market**"
      ],
      "metadata": {
        "id": "H_81Qjz6_VJA"
      }
    },
    {
      "cell_type": "code",
      "source": [
        "plt.figure(figsize=(12,6))\n",
        "plt.title('least ')\n",
        "#colors\n",
        "colors = ['#ff9999','#66b3ff','#99ff99','#ffcc99','#B7C3F3']\n",
        "plt.pie(country_val[:-1],labels=country_names[:-1],autopct='%1.2f%%')\n",
        "plt.show()"
      ],
      "metadata": {
        "colab": {
          "base_uri": "https://localhost:8080/",
          "height": 373
        },
        "id": "a0o711h__QkZ",
        "outputId": "948eeea4-39cf-4549-e324-ad2f61528245"
      },
      "execution_count": 91,
      "outputs": [
        {
          "output_type": "display_data",
          "data": {
            "text/plain": [
              "<Figure size 864x432 with 1 Axes>"
            ],
            "image/png": "[encoded data removed]"
          },
          "metadata": {}
        }
      ]
    },
    {
      "cell_type": "markdown",
      "source": [
        "least country that participates in the market is US and Germany"
      ],
      "metadata": {
        "id": "C14nGflO_dgx"
      }
    },
    {
      "cell_type": "markdown",
      "source": [
        "**8)Which Country has the most acceptance in last campaign?**"
      ],
      "metadata": {
        "id": "kkJx7ofP_kJR"
      }
    },
    {
      "cell_type": "code",
      "source": [
        "plt.figure(figsize=(12,6))\n",
        "cs = sns.countplot(x='Country',hue='Response',data=dataset,palette=\"magma\")\n",
        "plt.title('Customers Acceptance of last campaign response based on country');\n",
        "for p in cs.patches: \n",
        "    cs.annotate('{:}'.format(p.get_height()), (p.get_x()+0.25, p.get_height()+0.01)) \n",
        "plt.show()"
      ],
      "metadata": {
        "colab": {
          "base_uri": "https://localhost:8080/",
          "height": 410
        },
        "id": "6nEYxc-4_QeA",
        "outputId": "29342085-e381-4dfc-e3d3-7c49a2fedce9"
      },
      "execution_count": 92,
      "outputs": [
        {
          "output_type": "display_data",
          "data": {
            "text/plain": [
              "<Figure size 864x432 with 1 Axes>"
            ],
            "image/png": "[encoded data removed]"
          },
          "metadata": {}
        }
      ]
    },
    {
      "cell_type": "markdown",
      "source": [
        "**9)What type of purchases are the most successful?**\n"
      ],
      "metadata": {
        "id": "uWLu690N_uZm"
      }
    },
    {
      "cell_type": "code",
      "source": [
        "Purchases = ['NumDealsPurchases', 'NumWebPurchases', 'NumCatalogPurchases', 'NumStorePurchases']\n",
        "Purchases_total = []\n",
        "for i in range(0,4):\n",
        "  print(\"{} = {}\".format(Purchases[i],dataset[Purchases[i]].sum(axis=0)))\n",
        "  Purchases_total.append(dataset[Purchases[i]].sum(axis=0))"
      ],
      "metadata": {
        "colab": {
          "base_uri": "https://localhost:8080/"
        },
        "id": "T3FFFAaP_uC-",
        "outputId": "8a57e4ba-7a5f-4d08-8012-6d9e1f1a4a5d"
      },
      "execution_count": 93,
      "outputs": [
        {
          "output_type": "stream",
          "name": "stdout",
          "text": [
            "NumDealsPurchases = 5208\n",
            "NumWebPurchases = 9150\n",
            "NumCatalogPurchases = 5963\n",
            "NumStorePurchases = 12970\n"
          ]
        }
      ]
    },
    {
      "cell_type": "code",
      "source": [
        "plt.pie(Purchases_total, colors=colors, labels=Purchases,\n",
        "        autopct='%1.1f%%', pctdistance=0.85)\n",
        "# draw circle\n",
        "centre_circle = plt.Circle((0, 0), 0.70, fc='white')\n",
        "fig = plt.gcf()\n",
        "  \n",
        "# Adding Circle in Pie chart\n",
        "fig.gca().add_artist(centre_circle)\n",
        "  \n",
        "# Adding Title of chart\n",
        "plt.title('Types of Purchases')\n",
        "  \n",
        "# Displaying Chart\n",
        "plt.show()"
      ],
      "metadata": {
        "colab": {
          "base_uri": "https://localhost:8080/",
          "height": 264
        },
        "id": "yllaTA90_uAe",
        "outputId": "ec5f4d2e-3978-454f-cf9b-40eec1375c4a"
      },
      "execution_count": 94,
      "outputs": [
        {
          "output_type": "display_data",
          "data": {
            "text/plain": [
              "<Figure size 432x288 with 1 Axes>"
            ],
            "image/png": "[encoded data removed]"
          },
          "metadata": {}
        }
      ]
    },
    {
      "cell_type": "markdown",
      "source": [
        "# Data Models"
      ],
      "metadata": {
        "id": "ZwR7sI7LA_cg"
      }
    },
    {
      "cell_type": "markdown",
      "source": [
        "**1)Will the customer accept our latest campaign? (Random Forest)**\n"
      ],
      "metadata": {
        "id": "XgP_gRumBGLo"
      }
    },
    {
      "cell_type": "code",
      "source": [
        "data=pd.read_csv(\"/content/marketing-data-full_total.csv\")"
      ],
      "metadata": {
        "id": "sO_1ndLM_t9d"
      },
      "execution_count": 119,
      "outputs": []
    },
    {
      "cell_type": "code",
      "source": [
        "data.columns"
      ],
      "metadata": {
        "colab": {
          "base_uri": "https://localhost:8080/"
        },
        "id": "DeJhbupOSLVn",
        "outputId": "196a2101-33c9-4afe-b813-da7f1870caf5"
      },
      "execution_count": 120,
      "outputs": [
        {
          "output_type": "execute_result",
          "data": {
            "text/plain": [
              "Index(['Unnamed: 0', 'ID', 'Year_Birth', 'Education', 'Marital_Status',\n",
              "       'Income', 'Kidhome', 'Teenhome', 'Dt_Customer', 'Recency', 'MntWines',\n",
              "       'MntFruits', 'MntMeatProducts', 'MntFishProducts', 'MntSweetProducts',\n",
              "       'MntGoldProds', 'NumDealsPurchases', 'NumWebPurchases',\n",
              "       'NumCatalogPurchases', 'NumStorePurchases', 'NumWebVisitsMonth',\n",
              "       'AcceptedCmp3', 'AcceptedCmp4', 'AcceptedCmp5', 'AcceptedCmp1',\n",
              "       'AcceptedCmp2', 'Response', 'Complain', 'Country', 'Total_Minors',\n",
              "       'Total_Mnt', 'Total_Num', 'Total_AcceptedCmp'],\n",
              "      dtype='object')"
            ]
          },
          "metadata": {},
          "execution_count": 120
        }
      ]
    },
    {
      "cell_type": "code",
      "source": [
        "data.drop([\"Unnamed: 0\", \"ID\"],axis=1,inplace=True)"
      ],
      "metadata": {
        "id": "6-N0oHwIUNYB"
      },
      "execution_count": 121,
      "outputs": []
    },
    {
      "cell_type": "code",
      "source": [
        "encoded_df=data\n",
        "encoded_df=encoded_df.drop(columns=['Dt_Customer','Country'])\n",
        "encoded_df=pd.get_dummies(encoded_df,prefix=['Education','Marital_Status'])"
      ],
      "metadata": {
        "id": "bhFvwhjzcbIg"
      },
      "execution_count": 128,
      "outputs": []
    },
    {
      "cell_type": "code",
      "source": [
        "encoded_df.info()"
      ],
      "metadata": {
        "colab": {
          "base_uri": "https://localhost:8080/"
        },
        "id": "iMoP-xYbcbDV",
        "outputId": "80fcc44e-28c6-4b43-8001-9b236de8ded2"
      },
      "execution_count": 129,
      "outputs": [
        {
          "output_type": "stream",
          "name": "stdout",
          "text": [
            "<class 'pandas.core.frame.DataFrame'>\n",
            "RangeIndex: 2240 entries, 0 to 2239\n",
            "Data columns (total 40 columns):\n",
            " #   Column                   Non-Null Count  Dtype  \n",
            "---  ------                   --------------  -----  \n",
            " 0   Year_Birth               2240 non-null   int64  \n",
            " 1   Income                   2240 non-null   float64\n",
            " 2   Kidhome                  2240 non-null   int64  \n",
            " 3   Teenhome                 2240 non-null   int64  \n",
            " 4   Recency                  2240 non-null   int64  \n",
            " 5   MntWines                 2240 non-null   int64  \n",
            " 6   MntFruits                2240 non-null   int64  \n",
            " 7   MntMeatProducts          2240 non-null   int64  \n",
            " 8   MntFishProducts          2240 non-null   int64  \n",
            " 9   MntSweetProducts         2240 non-null   int64  \n",
            " 10  MntGoldProds             2240 non-null   int64  \n",
            " 11  NumDealsPurchases        2240 non-null   int64  \n",
            " 12  NumWebPurchases          2240 non-null   int64  \n",
            " 13  NumCatalogPurchases      2240 non-null   int64  \n",
            " 14  NumStorePurchases        2240 non-null   int64  \n",
            " 15  NumWebVisitsMonth        2240 non-null   int64  \n",
            " 16  AcceptedCmp3             2240 non-null   int64  \n",
            " 17  AcceptedCmp4             2240 non-null   int64  \n",
            " 18  AcceptedCmp5             2240 non-null   int64  \n",
            " 19  AcceptedCmp1             2240 non-null   int64  \n",
            " 20  AcceptedCmp2             2240 non-null   int64  \n",
            " 21  Response                 2240 non-null   int64  \n",
            " 22  Complain                 2240 non-null   int64  \n",
            " 23  Total_Minors             2240 non-null   int64  \n",
            " 24  Total_Mnt                2240 non-null   int64  \n",
            " 25  Total_Num                2240 non-null   int64  \n",
            " 26  Total_AcceptedCmp        2240 non-null   int64  \n",
            " 27  Education_2n Cycle       2240 non-null   uint8  \n",
            " 28  Education_Basic          2240 non-null   uint8  \n",
            " 29  Education_Graduation     2240 non-null   uint8  \n",
            " 30  Education_Master         2240 non-null   uint8  \n",
            " 31  Education_PhD            2240 non-null   uint8  \n",
            " 32  Marital_Status_Absurd    2240 non-null   uint8  \n",
            " 33  Marital_Status_Alone     2240 non-null   uint8  \n",
            " 34  Marital_Status_Divorced  2240 non-null   uint8  \n",
            " 35  Marital_Status_Married   2240 non-null   uint8  \n",
            " 36  Marital_Status_Single    2240 non-null   uint8  \n",
            " 37  Marital_Status_Together  2240 non-null   uint8  \n",
            " 38  Marital_Status_Widow     2240 non-null   uint8  \n",
            " 39  Marital_Status_YOLO      2240 non-null   uint8  \n",
            "dtypes: float64(1), int64(26), uint8(13)\n",
            "memory usage: 501.1 KB\n"
          ]
        }
      ]
    },
    {
      "cell_type": "code",
      "source": [
        "# Split the data into training and test sets\n",
        "x=encoded_df.iloc[:, encoded_df.columns !='Response']\n",
        "y=encoded_df.iloc[:,23]\n",
        "x_train, x_test, y_train, y_test = train_test_split(x, y, random_state=0)\n",
        "classifier = LogisticRegression(random_state=0)\n",
        "classifier.fit(x_train, y_train)"
      ],
      "metadata": {
        "colab": {
          "base_uri": "https://localhost:8080/"
        },
        "id": "JXpADy4BcHVC",
        "outputId": "0414b067-3aa4-4f3a-dbb3-9d2e4895f949"
      },
      "execution_count": 130,
      "outputs": [
        {
          "output_type": "stream",
          "name": "stderr",
          "text": [
            "/usr/local/lib/python3.7/dist-packages/sklearn/linear_model/_logistic.py:818: ConvergenceWarning: lbfgs failed to converge (status=1):\n",
            "STOP: TOTAL NO. of ITERATIONS REACHED LIMIT.\n",
            "\n",
            "Increase the number of iterations (max_iter) or scale the data as shown in:\n",
            "    https://scikit-learn.org/stable/modules/preprocessing.html\n",
            "Please also refer to the documentation for alternative solver options:\n",
            "    https://scikit-learn.org/stable/modules/linear_model.html#logistic-regression\n",
            "  extra_warning_msg=_LOGISTIC_SOLVER_CONVERGENCE_MSG,\n"
          ]
        },
        {
          "output_type": "execute_result",
          "data": {
            "text/plain": [
              "LogisticRegression(random_state=0)"
            ]
          },
          "metadata": {},
          "execution_count": 130
        }
      ]
    },
    {
      "cell_type": "code",
      "source": [
        "y_pred=classifier.predict(x_test)"
      ],
      "metadata": {
        "id": "GafzWIsScHNA"
      },
      "execution_count": 131,
      "outputs": []
    },
    {
      "cell_type": "code",
      "source": [
        "print('Accuracy of logistic regression classifier on test set: {:.2f}'.format(classifier.score(x_test, y_test)))"
      ],
      "metadata": {
        "colab": {
          "base_uri": "https://localhost:8080/"
        },
        "id": "zyQioRkHcHJW",
        "outputId": "e9a90c0e-c4ab-41f4-cc16-af6de3bb367c"
      },
      "execution_count": 132,
      "outputs": [
        {
          "output_type": "stream",
          "name": "stdout",
          "text": [
            "Accuracy of logistic regression classifier on test set: 0.65\n"
          ]
        }
      ]
    },
    {
      "cell_type": "code",
      "source": [
        "from sklearn.metrics import classification_report\n",
        "print(classification_report(y_test,y_pred))"
      ],
      "metadata": {
        "colab": {
          "base_uri": "https://localhost:8080/"
        },
        "id": "SFAjHSxJcHFR",
        "outputId": "b47ca246-a3a7-4cfb-8bd3-dd48e0bd0373"
      },
      "execution_count": 133,
      "outputs": [
        {
          "output_type": "stream",
          "name": "stdout",
          "text": [
            "              precision    recall  f1-score   support\n",
            "\n",
            "           0       0.79      0.62      0.69       167\n",
            "           1       0.60      0.91      0.73       284\n",
            "           2       0.00      0.00      0.00        96\n",
            "           3       0.00      0.00      0.00        13\n",
            "\n",
            "    accuracy                           0.65       560\n",
            "   macro avg       0.35      0.38      0.35       560\n",
            "weighted avg       0.54      0.65      0.57       560\n",
            "\n"
          ]
        },
        {
          "output_type": "stream",
          "name": "stderr",
          "text": [
            "/usr/local/lib/python3.7/dist-packages/sklearn/metrics/_classification.py:1318: UndefinedMetricWarning: Precision and F-score are ill-defined and being set to 0.0 in labels with no predicted samples. Use `zero_division` parameter to control this behavior.\n",
            "  _warn_prf(average, modifier, msg_start, len(result))\n",
            "/usr/local/lib/python3.7/dist-packages/sklearn/metrics/_classification.py:1318: UndefinedMetricWarning: Precision and F-score are ill-defined and being set to 0.0 in labels with no predicted samples. Use `zero_division` parameter to control this behavior.\n",
            "  _warn_prf(average, modifier, msg_start, len(result))\n",
            "/usr/local/lib/python3.7/dist-packages/sklearn/metrics/_classification.py:1318: UndefinedMetricWarning: Precision and F-score are ill-defined and being set to 0.0 in labels with no predicted samples. Use `zero_division` parameter to control this behavior.\n",
            "  _warn_prf(average, modifier, msg_start, len(result))\n"
          ]
        }
      ]
    },
    {
      "cell_type": "code",
      "source": [
        "from sklearn.metrics import confusion_matrix\n",
        "confusion_matrix(y_test, y_pred)"
      ],
      "metadata": {
        "colab": {
          "base_uri": "https://localhost:8080/"
        },
        "id": "5aJ4cHcucHAx",
        "outputId": "34132aec-5138-4110-d928-211348ab6765"
      },
      "execution_count": 134,
      "outputs": [
        {
          "output_type": "execute_result",
          "data": {
            "text/plain": [
              "array([[103,  64,   0,   0],\n",
              "       [ 25, 259,   0,   0],\n",
              "       [  1,  95,   0,   0],\n",
              "       [  2,  11,   0,   0]])"
            ]
          },
          "metadata": {},
          "execution_count": 134
        }
      ]
    },
    {
      "cell_type": "markdown",
      "source": [
        "**2)Purchase prediction (Linear Regression)**"
      ],
      "metadata": {
        "id": "L6XjqjEraFm5"
      }
    },
    {
      "cell_type": "code",
      "source": [
        "data2=pd.read_csv(\"/content/marketing-data-full_total.csv\")"
      ],
      "metadata": {
        "id": "Rg_S4r3XY7Lq"
      },
      "execution_count": 108,
      "outputs": []
    },
    {
      "cell_type": "code",
      "source": [
        "from sklearn.model_selection import train_test_split\n",
        "from sklearn.linear_model import LinearRegression\n",
        "from sklearn.metrics import mean_squared_error\n",
        "\n",
        "# isolate X and y variables, and perform train-test split\n",
        "X = data2[[\"NumStorePurchases\",\"NumCatalogPurchases\",\"NumWebPurchases\",\"NumDealsPurchases\"]]\n",
        "y = data2['Total_Num']\n",
        "\n",
        "X_train, X_test, y_train, y_test = train_test_split(X, y, test_size=0.3, random_state=1)\n",
        "\n",
        "# linear regression model\n",
        "model = LinearRegression()\n",
        "model.fit(X_train, y_train)\n",
        "\n",
        "# predictions\n",
        "preds = model.predict(X_test)\n",
        "\n",
        "# evaluate model using RMSE\n",
        "print(\"Mean Value of TotalNum:-\",data2[\"Total_Num\"].mean())\n",
        "print(\"10% of mean value of TotalNum\" ,(data2[\"Total_Num\"].mean())*10/100)\n",
        "print(\"Linear regression model RMSE: \", np.sqrt(mean_squared_error(y_test, preds)))"
      ],
      "metadata": {
        "colab": {
          "base_uri": "https://localhost:8080/"
        },
        "id": "l9i0mN2uU8J3",
        "outputId": "89601871-44f4-4ad3-efb7-e7b189341fa8"
      },
      "execution_count": 111,
      "outputs": [
        {
          "output_type": "stream",
          "name": "stdout",
          "text": [
            "Mean Value of TotalNum:- 20.178571428571427\n",
            "10% of mean value of TotalNum 2.017857142857143\n",
            "Linear regression model RMSE:  1.8200365603126172\n"
          ]
        }
      ]
    },
    {
      "cell_type": "markdown",
      "source": [
        "As the RMSE value is less than 10% mean value of Total_num that means our model is prediction very well."
      ],
      "metadata": {
        "id": "YYhPxCBpZPG5"
      }
    },
    {
      "cell_type": "code",
      "source": [
        "coeff=pd.DataFrame(model.coef_,X.columns,columns=[\"Coefficient\"])\n",
        "coeff"
      ],
      "metadata": {
        "colab": {
          "base_uri": "https://localhost:8080/",
          "height": 175
        },
        "id": "3DzQkTpnY1uj",
        "outputId": "8a696833-3082-4d66-b30d-c1de97a64080"
      },
      "execution_count": 113,
      "outputs": [
        {
          "output_type": "execute_result",
          "data": {
            "text/plain": [
              "                     Coefficient\n",
              "NumStorePurchases       0.768832\n",
              "NumCatalogPurchases     0.634787\n",
              "NumWebPurchases         1.170665\n",
              "NumDealsPurchases       1.416098"
            ],
            "text/html": [
              "\n",
              "  <div id=\"df-aa68df39-d474-49ed-994d-5fa9069d39d0\">\n",
              "    <div class=\"colab-df-container\">\n",
              "      <div>\n",
              "<style scoped>\n",
              "    .dataframe tbody tr th:only-of-type {\n",
              "        vertical-align: middle;\n",
              "    }\n",
              "\n",
              "    .dataframe tbody tr th {\n",
              "        vertical-align: top;\n",
              "    }\n",
              "\n",
              "    .dataframe thead th {\n",
              "        text-align: right;\n",
              "    }\n",
              "</style>\n",
              "<table border=\"1\" class=\"dataframe\">\n",
              "  <thead>\n",
              "    <tr style=\"text-align: right;\">\n",
              "      <th></th>\n",
              "      <th>Coefficient</th>\n",
              "    </tr>\n",
              "  </thead>\n",
              "  <tbody>\n",
              "    <tr>\n",
              "      <th>NumStorePurchases</th>\n",
              "      <td>0.768832</td>\n",
              "    </tr>\n",
              "    <tr>\n",
              "      <th>NumCatalogPurchases</th>\n",
              "      <td>0.634787</td>\n",
              "    </tr>\n",
              "    <tr>\n",
              "      <th>NumWebPurchases</th>\n",
              "      <td>1.170665</td>\n",
              "    </tr>\n",
              "    <tr>\n",
              "      <th>NumDealsPurchases</th>\n",
              "      <td>1.416098</td>\n",
              "    </tr>\n",
              "  </tbody>\n",
              "</table>\n",
              "</div>\n",
              "      <button class=\"colab-df-convert\" onclick=\"convertToInteractive('df-aa68df39-d474-49ed-994d-5fa9069d39d0')\"\n",
              "              title=\"Convert this dataframe to an interactive table.\"\n",
              "              style=\"display:none;\">\n",
              "        \n",
              "  <svg xmlns=\"http://www.w3.org/2000/svg\" height=\"24px\"viewBox=\"0 0 24 24\"\n",
              "       width=\"24px\">\n",
              "    <path d=\"M0 0h24v24H0V0z\" fill=\"none\"/>\n",
              "    <path d=\"M18.56 5.44l.94 2.06.94-2.06 2.06-.94-2.06-.94-.94-2.06-.94 2.06-2.06.94zm-11 1L8.5 8.5l.94-2.06 2.06-.94-2.06-.94L8.5 2.5l-.94 2.06-2.06.94zm10 10l.94 2.06.94-2.06 2.06-.94-2.06-.94-.94-2.06-.94 2.06-2.06.94z\"/><path d=\"M17.41 7.96l-1.37-1.37c-.4-.4-.92-.59-1.43-.59-.52 0-1.04.2-1.43.59L10.3 9.45l-7.72 7.72c-.78.78-.78 2.05 0 2.83L4 21.41c.39.39.9.59 1.41.59.51 0 1.02-.2 1.41-.59l7.78-7.78 2.81-2.81c.8-.78.8-2.07 0-2.86zM5.41 20L4 18.59l7.72-7.72 1.47 1.35L5.41 20z\"/>\n",
              "  </svg>\n",
              "      </button>\n",
              "      \n",
              "  <style>\n",
              "    .colab-df-container {\n",
              "      display:flex;\n",
              "      flex-wrap:wrap;\n",
              "      gap: 12px;\n",
              "    }\n",
              "\n",
              "    .colab-df-convert {\n",
              "      background-color: #E8F0FE;\n",
              "      border: none;\n",
              "      border-radius: 50%;\n",
              "      cursor: pointer;\n",
              "      display: none;\n",
              "      fill: #1967D2;\n",
              "      height: 32px;\n",
              "      padding: 0 0 0 0;\n",
              "      width: 32px;\n",
              "    }\n",
              "\n",
              "    .colab-df-convert:hover {\n",
              "      background-color: #E2EBFA;\n",
              "      box-shadow: 0px 1px 2px rgba(60, 64, 67, 0.3), 0px 1px 3px 1px rgba(60, 64, 67, 0.15);\n",
              "      fill: #174EA6;\n",
              "    }\n",
              "\n",
              "    [theme=dark] .colab-df-convert {\n",
              "      background-color: #3B4455;\n",
              "      fill: #D2E3FC;\n",
              "    }\n",
              "\n",
              "    [theme=dark] .colab-df-convert:hover {\n",
              "      background-color: #434B5C;\n",
              "      box-shadow: 0px 1px 3px 1px rgba(0, 0, 0, 0.15);\n",
              "      filter: drop-shadow(0px 1px 2px rgba(0, 0, 0, 0.3));\n",
              "      fill: #FFFFFF;\n",
              "    }\n",
              "  </style>\n",
              "\n",
              "      <script>\n",
              "        const buttonEl =\n",
              "          document.querySelector('#df-aa68df39-d474-49ed-994d-5fa9069d39d0 button.colab-df-convert');\n",
              "        buttonEl.style.display =\n",
              "          google.colab.kernel.accessAllowed ? 'block' : 'none';\n",
              "\n",
              "        async function convertToInteractive(key) {\n",
              "          const element = document.querySelector('#df-aa68df39-d474-49ed-994d-5fa9069d39d0');\n",
              "          const dataTable =\n",
              "            await google.colab.kernel.invokeFunction('convertToInteractive',\n",
              "                                                     [key], {});\n",
              "          if (!dataTable) return;\n",
              "\n",
              "          const docLinkHtml = 'Like what you see? Visit the ' +\n",
              "            '<a target=\"_blank\" href=https://colab.research.google.com/notebooks/data_table.ipynb>data table notebook</a>'\n",
              "            + ' to learn more about interactive tables.';\n",
              "          element.innerHTML = '';\n",
              "          dataTable['output_type'] = 'display_data';\n",
              "          await google.colab.output.renderOutput(dataTable, element);\n",
              "          const docLink = document.createElement('div');\n",
              "          docLink.innerHTML = docLinkHtml;\n",
              "          element.appendChild(docLink);\n",
              "        }\n",
              "      </script>\n",
              "    </div>\n",
              "  </div>\n",
              "  "
            ]
          },
          "metadata": {},
          "execution_count": 113
        }
      ]
    },
    {
      "cell_type": "code",
      "source": [
        "df2=pd.DataFrame({\"Actual\": y_test,\"Predicted\": preds})\n",
        "df2"
      ],
      "metadata": {
        "colab": {
          "base_uri": "https://localhost:8080/",
          "height": 424
        },
        "id": "E2gmwR_pZn3l",
        "outputId": "e092901a-8237-4c89-a6c1-c2aff3324063"
      },
      "execution_count": 114,
      "outputs": [
        {
          "output_type": "execute_result",
          "data": {
            "text/plain": [
              "      Actual  Predicted\n",
              "779       20  22.790866\n",
              "389       17  18.944405\n",
              "510       18  15.980767\n",
              "1553      25  25.253762\n",
              "1172      30  31.087036\n",
              "...      ...        ...\n",
              "512       36  36.114038\n",
              "536       29  28.571917\n",
              "1094      21  23.168041\n",
              "1999      11  10.819720\n",
              "361       21  21.885686\n",
              "\n",
              "[672 rows x 2 columns]"
            ],
            "text/html": [
              "\n",
              "  <div id=\"df-4abd513c-5649-4718-b894-2d2a16a4aa25\">\n",
              "    <div class=\"colab-df-container\">\n",
              "      <div>\n",
              "<style scoped>\n",
              "    .dataframe tbody tr th:only-of-type {\n",
              "        vertical-align: middle;\n",
              "    }\n",
              "\n",
              "    .dataframe tbody tr th {\n",
              "        vertical-align: top;\n",
              "    }\n",
              "\n",
              "    .dataframe thead th {\n",
              "        text-align: right;\n",
              "    }\n",
              "</style>\n",
              "<table border=\"1\" class=\"dataframe\">\n",
              "  <thead>\n",
              "    <tr style=\"text-align: right;\">\n",
              "      <th></th>\n",
              "      <th>Actual</th>\n",
              "      <th>Predicted</th>\n",
              "    </tr>\n",
              "  </thead>\n",
              "  <tbody>\n",
              "    <tr>\n",
              "      <th>779</th>\n",
              "      <td>20</td>\n",
              "      <td>22.790866</td>\n",
              "    </tr>\n",
              "    <tr>\n",
              "      <th>389</th>\n",
              "      <td>17</td>\n",
              "      <td>18.944405</td>\n",
              "    </tr>\n",
              "    <tr>\n",
              "      <th>510</th>\n",
              "      <td>18</td>\n",
              "      <td>15.980767</td>\n",
              "    </tr>\n",
              "    <tr>\n",
              "      <th>1553</th>\n",
              "      <td>25</td>\n",
              "      <td>25.253762</td>\n",
              "    </tr>\n",
              "    <tr>\n",
              "      <th>1172</th>\n",
              "      <td>30</td>\n",
              "      <td>31.087036</td>\n",
              "    </tr>\n",
              "    <tr>\n",
              "      <th>...</th>\n",
              "      <td>...</td>\n",
              "      <td>...</td>\n",
              "    </tr>\n",
              "    <tr>\n",
              "      <th>512</th>\n",
              "      <td>36</td>\n",
              "      <td>36.114038</td>\n",
              "    </tr>\n",
              "    <tr>\n",
              "      <th>536</th>\n",
              "      <td>29</td>\n",
              "      <td>28.571917</td>\n",
              "    </tr>\n",
              "    <tr>\n",
              "      <th>1094</th>\n",
              "      <td>21</td>\n",
              "      <td>23.168041</td>\n",
              "    </tr>\n",
              "    <tr>\n",
              "      <th>1999</th>\n",
              "      <td>11</td>\n",
              "      <td>10.819720</td>\n",
              "    </tr>\n",
              "    <tr>\n",
              "      <th>361</th>\n",
              "      <td>21</td>\n",
              "      <td>21.885686</td>\n",
              "    </tr>\n",
              "  </tbody>\n",
              "</table>\n",
              "<p>672 rows × 2 columns</p>\n",
              "</div>\n",
              "      <button class=\"colab-df-convert\" onclick=\"convertToInteractive('df-4abd513c-5649-4718-b894-2d2a16a4aa25')\"\n",
              "              title=\"Convert this dataframe to an interactive table.\"\n",
              "              style=\"display:none;\">\n",
              "        \n",
              "  <svg xmlns=\"http://www.w3.org/2000/svg\" height=\"24px\"viewBox=\"0 0 24 24\"\n",
              "       width=\"24px\">\n",
              "    <path d=\"M0 0h24v24H0V0z\" fill=\"none\"/>\n",
              "    <path d=\"M18.56 5.44l.94 2.06.94-2.06 2.06-.94-2.06-.94-.94-2.06-.94 2.06-2.06.94zm-11 1L8.5 8.5l.94-2.06 2.06-.94-2.06-.94L8.5 2.5l-.94 2.06-2.06.94zm10 10l.94 2.06.94-2.06 2.06-.94-2.06-.94-.94-2.06-.94 2.06-2.06.94z\"/><path d=\"M17.41 7.96l-1.37-1.37c-.4-.4-.92-.59-1.43-.59-.52 0-1.04.2-1.43.59L10.3 9.45l-7.72 7.72c-.78.78-.78 2.05 0 2.83L4 21.41c.39.39.9.59 1.41.59.51 0 1.02-.2 1.41-.59l7.78-7.78 2.81-2.81c.8-.78.8-2.07 0-2.86zM5.41 20L4 18.59l7.72-7.72 1.47 1.35L5.41 20z\"/>\n",
              "  </svg>\n",
              "      </button>\n",
              "      \n",
              "  <style>\n",
              "    .colab-df-container {\n",
              "      display:flex;\n",
              "      flex-wrap:wrap;\n",
              "      gap: 12px;\n",
              "    }\n",
              "\n",
              "    .colab-df-convert {\n",
              "      background-color: #E8F0FE;\n",
              "      border: none;\n",
              "      border-radius: 50%;\n",
              "      cursor: pointer;\n",
              "      display: none;\n",
              "      fill: #1967D2;\n",
              "      height: 32px;\n",
              "      padding: 0 0 0 0;\n",
              "      width: 32px;\n",
              "    }\n",
              "\n",
              "    .colab-df-convert:hover {\n",
              "      background-color: #E2EBFA;\n",
              "      box-shadow: 0px 1px 2px rgba(60, 64, 67, 0.3), 0px 1px 3px 1px rgba(60, 64, 67, 0.15);\n",
              "      fill: #174EA6;\n",
              "    }\n",
              "\n",
              "    [theme=dark] .colab-df-convert {\n",
              "      background-color: #3B4455;\n",
              "      fill: #D2E3FC;\n",
              "    }\n",
              "\n",
              "    [theme=dark] .colab-df-convert:hover {\n",
              "      background-color: #434B5C;\n",
              "      box-shadow: 0px 1px 3px 1px rgba(0, 0, 0, 0.15);\n",
              "      filter: drop-shadow(0px 1px 2px rgba(0, 0, 0, 0.3));\n",
              "      fill: #FFFFFF;\n",
              "    }\n",
              "  </style>\n",
              "\n",
              "      <script>\n",
              "        const buttonEl =\n",
              "          document.querySelector('#df-4abd513c-5649-4718-b894-2d2a16a4aa25 button.colab-df-convert');\n",
              "        buttonEl.style.display =\n",
              "          google.colab.kernel.accessAllowed ? 'block' : 'none';\n",
              "\n",
              "        async function convertToInteractive(key) {\n",
              "          const element = document.querySelector('#df-4abd513c-5649-4718-b894-2d2a16a4aa25');\n",
              "          const dataTable =\n",
              "            await google.colab.kernel.invokeFunction('convertToInteractive',\n",
              "                                                     [key], {});\n",
              "          if (!dataTable) return;\n",
              "\n",
              "          const docLinkHtml = 'Like what you see? Visit the ' +\n",
              "            '<a target=\"_blank\" href=https://colab.research.google.com/notebooks/data_table.ipynb>data table notebook</a>'\n",
              "            + ' to learn more about interactive tables.';\n",
              "          element.innerHTML = '';\n",
              "          dataTable['output_type'] = 'display_data';\n",
              "          await google.colab.output.renderOutput(dataTable, element);\n",
              "          const docLink = document.createElement('div');\n",
              "          docLink.innerHTML = docLinkHtml;\n",
              "          element.appendChild(docLink);\n",
              "        }\n",
              "      </script>\n",
              "    </div>\n",
              "  </div>\n",
              "  "
            ]
          },
          "metadata": {},
          "execution_count": 114
        }
      ]
    },
    {
      "cell_type": "code",
      "source": [
        ""
      ],
      "metadata": {
        "id": "qReLkNInZ70b"
      },
      "execution_count": null,
      "outputs": []
    }
  ]
}